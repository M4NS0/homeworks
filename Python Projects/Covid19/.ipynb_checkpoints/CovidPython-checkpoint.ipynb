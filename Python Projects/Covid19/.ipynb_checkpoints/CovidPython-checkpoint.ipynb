{
 "cells": [
  {
   "cell_type": "code",
   "execution_count": 1,
   "metadata": {},
   "outputs": [],
   "source": [
    "# Instalação do pandas\n",
    "#!pip install pandas\n",
    "#!pip install --upgrade pandas"
   ]
  },
  {
   "cell_type": "code",
   "execution_count": 2,
   "metadata": {},
   "outputs": [],
   "source": [
    "import pandas as pd "
   ]
  },
  {
   "cell_type": "code",
   "execution_count": 3,
   "metadata": {},
   "outputs": [],
   "source": [
    "# instalação do matplotlib\n",
    "#!pip install matplotlib\n",
    "#!pip install --upgrade matplotlib"
   ]
  },
  {
   "cell_type": "code",
   "execution_count": 81,
   "metadata": {},
   "outputs": [],
   "source": [
    "import matplotlib.pyplot as plt\n",
    "from matplotlib import style\n",
    "style.use('ggplot')\n",
    "%matplotlib inline "
   ]
  },
  {
   "cell_type": "code",
   "execution_count": 6,
   "metadata": {},
   "outputs": [],
   "source": [
    "# instalação do plotly\n",
    "#!pip install plotly\n",
    "#!pip install --upgrade plotly"
   ]
  },
  {
   "cell_type": "code",
   "execution_count": 59,
   "metadata": {},
   "outputs": [],
   "source": [
    "import plotly\n",
    "import plotly.express as px\n",
    "import plotly.graph_objects as go\n",
    "plt.rcParams['figure.figsize']=17,8\n",
    "import plotly.offline as pyo"
   ]
  },
  {
   "cell_type": "code",
   "execution_count": 8,
   "metadata": {},
   "outputs": [],
   "source": [
    "# import cufflinks\n",
    "#!pip install cufflinks\n",
    "#!pip install --upgrade cufflinks"
   ]
  },
  {
   "cell_type": "code",
   "execution_count": 9,
   "metadata": {},
   "outputs": [],
   "source": [
    "import cufflinks as cf\n",
    "from plotly.offline import init_notebook_mode,plot,iplot"
   ]
  },
  {
   "cell_type": "code",
   "execution_count": 10,
   "metadata": {},
   "outputs": [],
   "source": [
    "# import folium\n",
    "#!pip install folium\n",
    "#!pip install --upgrade folium"
   ]
  },
  {
   "cell_type": "code",
   "execution_count": 11,
   "metadata": {},
   "outputs": [],
   "source": [
    "import folium"
   ]
  },
  {
   "cell_type": "code",
   "execution_count": 12,
   "metadata": {},
   "outputs": [
    {
     "data": {
      "text/html": [
       "        <script type=\"text/javascript\">\n",
       "        window.PlotlyConfig = {MathJaxConfig: 'local'};\n",
       "        if (window.MathJax) {MathJax.Hub.Config({SVG: {font: \"STIX-Web\"}});}\n",
       "        if (typeof require !== 'undefined') {\n",
       "        require.undef(\"plotly\");\n",
       "        requirejs.config({\n",
       "            paths: {\n",
       "                'plotly': ['https://cdn.plot.ly/plotly-latest.min']\n",
       "            }\n",
       "        });\n",
       "        require(['plotly'], function(Plotly) {\n",
       "            window._Plotly = Plotly;\n",
       "        });\n",
       "        }\n",
       "        </script>\n",
       "        "
      ]
     },
     "metadata": {},
     "output_type": "display_data"
    },
    {
     "data": {
      "text/html": [
       "        <script type=\"text/javascript\">\n",
       "        window.PlotlyConfig = {MathJaxConfig: 'local'};\n",
       "        if (window.MathJax) {MathJax.Hub.Config({SVG: {font: \"STIX-Web\"}});}\n",
       "        if (typeof require !== 'undefined') {\n",
       "        require.undef(\"plotly\");\n",
       "        requirejs.config({\n",
       "            paths: {\n",
       "                'plotly': ['https://cdn.plot.ly/plotly-latest.min']\n",
       "            }\n",
       "        });\n",
       "        require(['plotly'], function(Plotly) {\n",
       "            window._Plotly = Plotly;\n",
       "        });\n",
       "        }\n",
       "        </script>\n",
       "        "
      ]
     },
     "metadata": {},
     "output_type": "display_data"
    }
   ],
   "source": [
    "pyo.init_notebook_mode(connected = True)\n",
    "cf.go_offline()"
   ]
  },
  {
   "cell_type": "code",
   "execution_count": 21,
   "metadata": {
    "collapsed": true
   },
   "outputs": [
    {
     "name": "stdout",
     "output_type": "stream",
     "text": [
      "Requirement already satisfied: xlrd in /home/nobrusoman/Workspaces/Python Projects/notebooks/meu_projeto/lib/python3.6/site-packages (1.2.0)\n",
      "Requirement already up-to-date: xlrd in /home/nobrusoman/Workspaces/Python Projects/notebooks/meu_projeto/lib/python3.6/site-packages (1.2.0)\n"
     ]
    }
   ],
   "source": [
    "# import xlrd  -  excel extension\n",
    "# !pip install xlrd\n",
    "# !pip install --upgrade xlrd"
   ]
  },
  {
   "cell_type": "code",
   "execution_count": 23,
   "metadata": {},
   "outputs": [],
   "source": [
    "df=pd.read_excel(\"CovidIndia.xlsx\")\n",
    "# https://www.kaggle.com/sudalairajkumar/novel-corona-virus-2019-dataset/data\n",
    "# https://brasil.io/dataset/covid19/caso"
   ]
  },
  {
   "cell_type": "code",
   "execution_count": 53,
   "metadata": {
    "collapsed": true
   },
   "outputs": [
    {
     "data": {
      "text/html": [
       "<div>\n",
       "<style scoped>\n",
       "    .dataframe tbody tr th:only-of-type {\n",
       "        vertical-align: middle;\n",
       "    }\n",
       "\n",
       "    .dataframe tbody tr th {\n",
       "        vertical-align: top;\n",
       "    }\n",
       "\n",
       "    .dataframe thead th {\n",
       "        text-align: right;\n",
       "    }\n",
       "</style>\n",
       "<table border=\"1\" class=\"dataframe\">\n",
       "  <thead>\n",
       "    <tr style=\"text-align: right;\">\n",
       "      <th></th>\n",
       "      <th>Name of State / UT</th>\n",
       "      <th>Total Confirmed cases (Indian National)</th>\n",
       "      <th>Total Confirmed cases ( Foreign National )</th>\n",
       "      <th>Cured</th>\n",
       "      <th>Death</th>\n",
       "      <th>Total Cases</th>\n",
       "      <th>Active Cases</th>\n",
       "    </tr>\n",
       "  </thead>\n",
       "  <tbody>\n",
       "    <tr>\n",
       "      <th>0</th>\n",
       "      <td>Andhra Pradesh</td>\n",
       "      <td>12</td>\n",
       "      <td>0</td>\n",
       "      <td>1</td>\n",
       "      <td>0</td>\n",
       "      <td>12</td>\n",
       "      <td>11</td>\n",
       "    </tr>\n",
       "    <tr>\n",
       "      <th>1</th>\n",
       "      <td>Chhattisgarh</td>\n",
       "      <td>6</td>\n",
       "      <td>0</td>\n",
       "      <td>0</td>\n",
       "      <td>0</td>\n",
       "      <td>6</td>\n",
       "      <td>6</td>\n",
       "    </tr>\n",
       "    <tr>\n",
       "      <th>2</th>\n",
       "      <td>Delhi</td>\n",
       "      <td>38</td>\n",
       "      <td>1</td>\n",
       "      <td>6</td>\n",
       "      <td>1</td>\n",
       "      <td>39</td>\n",
       "      <td>32</td>\n",
       "    </tr>\n",
       "    <tr>\n",
       "      <th>3</th>\n",
       "      <td>Gujarat</td>\n",
       "      <td>43</td>\n",
       "      <td>0</td>\n",
       "      <td>0</td>\n",
       "      <td>3</td>\n",
       "      <td>43</td>\n",
       "      <td>40</td>\n",
       "    </tr>\n",
       "    <tr>\n",
       "      <th>4</th>\n",
       "      <td>Haryana</td>\n",
       "      <td>16</td>\n",
       "      <td>14</td>\n",
       "      <td>11</td>\n",
       "      <td>0</td>\n",
       "      <td>30</td>\n",
       "      <td>19</td>\n",
       "    </tr>\n",
       "    <tr>\n",
       "      <th>5</th>\n",
       "      <td>Himachal Pradesh</td>\n",
       "      <td>4</td>\n",
       "      <td>0</td>\n",
       "      <td>0</td>\n",
       "      <td>1</td>\n",
       "      <td>4</td>\n",
       "      <td>3</td>\n",
       "    </tr>\n",
       "    <tr>\n",
       "      <th>6</th>\n",
       "      <td>Karnataka</td>\n",
       "      <td>20</td>\n",
       "      <td>0</td>\n",
       "      <td>3</td>\n",
       "      <td>2</td>\n",
       "      <td>20</td>\n",
       "      <td>15</td>\n",
       "    </tr>\n",
       "    <tr>\n",
       "      <th>7</th>\n",
       "      <td>Kerala</td>\n",
       "      <td>131</td>\n",
       "      <td>7</td>\n",
       "      <td>11</td>\n",
       "      <td>0</td>\n",
       "      <td>138</td>\n",
       "      <td>127</td>\n",
       "    </tr>\n",
       "    <tr>\n",
       "      <th>8</th>\n",
       "      <td>Madhya Pradesh</td>\n",
       "      <td>23</td>\n",
       "      <td>0</td>\n",
       "      <td>0</td>\n",
       "      <td>1</td>\n",
       "      <td>23</td>\n",
       "      <td>22</td>\n",
       "    </tr>\n",
       "    <tr>\n",
       "      <th>9</th>\n",
       "      <td>Maharashtra</td>\n",
       "      <td>144</td>\n",
       "      <td>3</td>\n",
       "      <td>15</td>\n",
       "      <td>4</td>\n",
       "      <td>147</td>\n",
       "      <td>128</td>\n",
       "    </tr>\n",
       "    <tr>\n",
       "      <th>10</th>\n",
       "      <td>Odisha</td>\n",
       "      <td>3</td>\n",
       "      <td>0</td>\n",
       "      <td>0</td>\n",
       "      <td>0</td>\n",
       "      <td>3</td>\n",
       "      <td>3</td>\n",
       "    </tr>\n",
       "    <tr>\n",
       "      <th>11</th>\n",
       "      <td>Puducherry</td>\n",
       "      <td>1</td>\n",
       "      <td>0</td>\n",
       "      <td>0</td>\n",
       "      <td>0</td>\n",
       "      <td>1</td>\n",
       "      <td>1</td>\n",
       "    </tr>\n",
       "    <tr>\n",
       "      <th>12</th>\n",
       "      <td>Punjab</td>\n",
       "      <td>29</td>\n",
       "      <td>0</td>\n",
       "      <td>0</td>\n",
       "      <td>1</td>\n",
       "      <td>29</td>\n",
       "      <td>28</td>\n",
       "    </tr>\n",
       "    <tr>\n",
       "      <th>13</th>\n",
       "      <td>Rajasthan</td>\n",
       "      <td>41</td>\n",
       "      <td>2</td>\n",
       "      <td>3</td>\n",
       "      <td>0</td>\n",
       "      <td>43</td>\n",
       "      <td>40</td>\n",
       "    </tr>\n",
       "    <tr>\n",
       "      <th>14</th>\n",
       "      <td>Tamil Nadu</td>\n",
       "      <td>32</td>\n",
       "      <td>3</td>\n",
       "      <td>1</td>\n",
       "      <td>1</td>\n",
       "      <td>35</td>\n",
       "      <td>33</td>\n",
       "    </tr>\n",
       "    <tr>\n",
       "      <th>15</th>\n",
       "      <td>Telengana</td>\n",
       "      <td>34</td>\n",
       "      <td>11</td>\n",
       "      <td>1</td>\n",
       "      <td>0</td>\n",
       "      <td>45</td>\n",
       "      <td>44</td>\n",
       "    </tr>\n",
       "    <tr>\n",
       "      <th>16</th>\n",
       "      <td>Chandigarh</td>\n",
       "      <td>7</td>\n",
       "      <td>0</td>\n",
       "      <td>0</td>\n",
       "      <td>0</td>\n",
       "      <td>7</td>\n",
       "      <td>7</td>\n",
       "    </tr>\n",
       "    <tr>\n",
       "      <th>17</th>\n",
       "      <td>Jammu and Kashmir</td>\n",
       "      <td>18</td>\n",
       "      <td>0</td>\n",
       "      <td>1</td>\n",
       "      <td>1</td>\n",
       "      <td>18</td>\n",
       "      <td>16</td>\n",
       "    </tr>\n",
       "    <tr>\n",
       "      <th>18</th>\n",
       "      <td>Ladakh</td>\n",
       "      <td>13</td>\n",
       "      <td>0</td>\n",
       "      <td>0</td>\n",
       "      <td>0</td>\n",
       "      <td>13</td>\n",
       "      <td>13</td>\n",
       "    </tr>\n",
       "    <tr>\n",
       "      <th>19</th>\n",
       "      <td>Uttar Pradesh</td>\n",
       "      <td>42</td>\n",
       "      <td>1</td>\n",
       "      <td>11</td>\n",
       "      <td>0</td>\n",
       "      <td>43</td>\n",
       "      <td>32</td>\n",
       "    </tr>\n",
       "    <tr>\n",
       "      <th>20</th>\n",
       "      <td>Uttarakhand</td>\n",
       "      <td>4</td>\n",
       "      <td>0</td>\n",
       "      <td>0</td>\n",
       "      <td>0</td>\n",
       "      <td>4</td>\n",
       "      <td>4</td>\n",
       "    </tr>\n",
       "    <tr>\n",
       "      <th>21</th>\n",
       "      <td>West Bengal</td>\n",
       "      <td>11</td>\n",
       "      <td>0</td>\n",
       "      <td>0</td>\n",
       "      <td>1</td>\n",
       "      <td>11</td>\n",
       "      <td>10</td>\n",
       "    </tr>\n",
       "    <tr>\n",
       "      <th>22</th>\n",
       "      <td>Bihar</td>\n",
       "      <td>7</td>\n",
       "      <td>0</td>\n",
       "      <td>0</td>\n",
       "      <td>1</td>\n",
       "      <td>7</td>\n",
       "      <td>6</td>\n",
       "    </tr>\n",
       "    <tr>\n",
       "      <th>23</th>\n",
       "      <td>Mizoram</td>\n",
       "      <td>1</td>\n",
       "      <td>0</td>\n",
       "      <td>0</td>\n",
       "      <td>0</td>\n",
       "      <td>1</td>\n",
       "      <td>1</td>\n",
       "    </tr>\n",
       "    <tr>\n",
       "      <th>24</th>\n",
       "      <td>Goa</td>\n",
       "      <td>6</td>\n",
       "      <td>0</td>\n",
       "      <td>0</td>\n",
       "      <td>0</td>\n",
       "      <td>6</td>\n",
       "      <td>6</td>\n",
       "    </tr>\n",
       "    <tr>\n",
       "      <th>25</th>\n",
       "      <td>Manipur</td>\n",
       "      <td>1</td>\n",
       "      <td>0</td>\n",
       "      <td>0</td>\n",
       "      <td>0</td>\n",
       "      <td>1</td>\n",
       "      <td>1</td>\n",
       "    </tr>\n",
       "  </tbody>\n",
       "</table>\n",
       "</div>"
      ],
      "text/plain": [
       "   Name of State / UT  Total Confirmed cases (Indian National)  \\\n",
       "0      Andhra Pradesh                                       12   \n",
       "1        Chhattisgarh                                        6   \n",
       "2               Delhi                                       38   \n",
       "3             Gujarat                                       43   \n",
       "4             Haryana                                       16   \n",
       "5    Himachal Pradesh                                        4   \n",
       "6           Karnataka                                       20   \n",
       "7              Kerala                                      131   \n",
       "8      Madhya Pradesh                                       23   \n",
       "9         Maharashtra                                      144   \n",
       "10             Odisha                                        3   \n",
       "11         Puducherry                                        1   \n",
       "12             Punjab                                       29   \n",
       "13          Rajasthan                                       41   \n",
       "14         Tamil Nadu                                       32   \n",
       "15          Telengana                                       34   \n",
       "16         Chandigarh                                        7   \n",
       "17  Jammu and Kashmir                                       18   \n",
       "18             Ladakh                                       13   \n",
       "19      Uttar Pradesh                                       42   \n",
       "20        Uttarakhand                                        4   \n",
       "21        West Bengal                                       11   \n",
       "22              Bihar                                        7   \n",
       "23            Mizoram                                        1   \n",
       "24                Goa                                        6   \n",
       "25            Manipur                                        1   \n",
       "\n",
       "    Total Confirmed cases ( Foreign National )  Cured  Death  Total Cases  \\\n",
       "0                                            0      1      0           12   \n",
       "1                                            0      0      0            6   \n",
       "2                                            1      6      1           39   \n",
       "3                                            0      0      3           43   \n",
       "4                                           14     11      0           30   \n",
       "5                                            0      0      1            4   \n",
       "6                                            0      3      2           20   \n",
       "7                                            7     11      0          138   \n",
       "8                                            0      0      1           23   \n",
       "9                                            3     15      4          147   \n",
       "10                                           0      0      0            3   \n",
       "11                                           0      0      0            1   \n",
       "12                                           0      0      1           29   \n",
       "13                                           2      3      0           43   \n",
       "14                                           3      1      1           35   \n",
       "15                                          11      1      0           45   \n",
       "16                                           0      0      0            7   \n",
       "17                                           0      1      1           18   \n",
       "18                                           0      0      0           13   \n",
       "19                                           1     11      0           43   \n",
       "20                                           0      0      0            4   \n",
       "21                                           0      0      1           11   \n",
       "22                                           0      0      1            7   \n",
       "23                                           0      0      0            1   \n",
       "24                                           0      0      0            6   \n",
       "25                                           0      0      0            1   \n",
       "\n",
       "    Active Cases  \n",
       "0             11  \n",
       "1              6  \n",
       "2             32  \n",
       "3             40  \n",
       "4             19  \n",
       "5              3  \n",
       "6             15  \n",
       "7            127  \n",
       "8             22  \n",
       "9            128  \n",
       "10             3  \n",
       "11             1  \n",
       "12            28  \n",
       "13            40  \n",
       "14            33  \n",
       "15            44  \n",
       "16             7  \n",
       "17            16  \n",
       "18            13  \n",
       "19            32  \n",
       "20             4  \n",
       "21            10  \n",
       "22             6  \n",
       "23             1  \n",
       "24             6  \n",
       "25             1  "
      ]
     },
     "execution_count": 53,
     "metadata": {},
     "output_type": "execute_result"
    }
   ],
   "source": [
    "df"
   ]
  },
  {
   "cell_type": "code",
   "execution_count": 25,
   "metadata": {},
   "outputs": [],
   "source": [
    "df.drop(['S. No.'],axis=1, inplace =True)\n",
    "# drop serve pra esconder atributos da tabela\n",
    "# inplace arranca atributos da tabela permanentemente\n"
   ]
  },
  {
   "cell_type": "code",
   "execution_count": 54,
   "metadata": {},
   "outputs": [],
   "source": [
    "df ['Total Cases']= df['Total Confirmed cases (Indian National)']+df['Total Confirmed cases ( Foreign National )']"
   ]
  },
  {
   "cell_type": "code",
   "execution_count": 31,
   "metadata": {},
   "outputs": [
    {
     "name": "stdout",
     "output_type": "stream",
     "text": [
      "The Total cases till now in India is 729\n"
     ]
    }
   ],
   "source": [
    "totalCasesOverall = df['Total Cases'].sum()\n",
    "print('The Total cases till now in India is', totalCasesOverall )"
   ]
  },
  {
   "cell_type": "code",
   "execution_count": 32,
   "metadata": {},
   "outputs": [],
   "source": [
    "df['Active Cases'] = df['Total Cases'] - (df['Death'] + df['Cured'])"
   ]
  },
  {
   "cell_type": "code",
   "execution_count": 55,
   "metadata": {
    "collapsed": true
   },
   "outputs": [
    {
     "data": {
      "text/html": [
       "<div>\n",
       "<style scoped>\n",
       "    .dataframe tbody tr th:only-of-type {\n",
       "        vertical-align: middle;\n",
       "    }\n",
       "\n",
       "    .dataframe tbody tr th {\n",
       "        vertical-align: top;\n",
       "    }\n",
       "\n",
       "    .dataframe thead th {\n",
       "        text-align: right;\n",
       "    }\n",
       "</style>\n",
       "<table border=\"1\" class=\"dataframe\">\n",
       "  <thead>\n",
       "    <tr style=\"text-align: right;\">\n",
       "      <th></th>\n",
       "      <th>Name of State / UT</th>\n",
       "      <th>Total Confirmed cases (Indian National)</th>\n",
       "      <th>Total Confirmed cases ( Foreign National )</th>\n",
       "      <th>Cured</th>\n",
       "      <th>Death</th>\n",
       "      <th>Total Cases</th>\n",
       "      <th>Active Cases</th>\n",
       "    </tr>\n",
       "  </thead>\n",
       "  <tbody>\n",
       "    <tr>\n",
       "      <th>0</th>\n",
       "      <td>Andhra Pradesh</td>\n",
       "      <td>12</td>\n",
       "      <td>0</td>\n",
       "      <td>1</td>\n",
       "      <td>0</td>\n",
       "      <td>12</td>\n",
       "      <td>11</td>\n",
       "    </tr>\n",
       "    <tr>\n",
       "      <th>1</th>\n",
       "      <td>Chhattisgarh</td>\n",
       "      <td>6</td>\n",
       "      <td>0</td>\n",
       "      <td>0</td>\n",
       "      <td>0</td>\n",
       "      <td>6</td>\n",
       "      <td>6</td>\n",
       "    </tr>\n",
       "    <tr>\n",
       "      <th>2</th>\n",
       "      <td>Delhi</td>\n",
       "      <td>38</td>\n",
       "      <td>1</td>\n",
       "      <td>6</td>\n",
       "      <td>1</td>\n",
       "      <td>39</td>\n",
       "      <td>32</td>\n",
       "    </tr>\n",
       "    <tr>\n",
       "      <th>3</th>\n",
       "      <td>Gujarat</td>\n",
       "      <td>43</td>\n",
       "      <td>0</td>\n",
       "      <td>0</td>\n",
       "      <td>3</td>\n",
       "      <td>43</td>\n",
       "      <td>40</td>\n",
       "    </tr>\n",
       "    <tr>\n",
       "      <th>4</th>\n",
       "      <td>Haryana</td>\n",
       "      <td>16</td>\n",
       "      <td>14</td>\n",
       "      <td>11</td>\n",
       "      <td>0</td>\n",
       "      <td>30</td>\n",
       "      <td>19</td>\n",
       "    </tr>\n",
       "    <tr>\n",
       "      <th>5</th>\n",
       "      <td>Himachal Pradesh</td>\n",
       "      <td>4</td>\n",
       "      <td>0</td>\n",
       "      <td>0</td>\n",
       "      <td>1</td>\n",
       "      <td>4</td>\n",
       "      <td>3</td>\n",
       "    </tr>\n",
       "    <tr>\n",
       "      <th>6</th>\n",
       "      <td>Karnataka</td>\n",
       "      <td>20</td>\n",
       "      <td>0</td>\n",
       "      <td>3</td>\n",
       "      <td>2</td>\n",
       "      <td>20</td>\n",
       "      <td>15</td>\n",
       "    </tr>\n",
       "    <tr>\n",
       "      <th>7</th>\n",
       "      <td>Kerala</td>\n",
       "      <td>131</td>\n",
       "      <td>7</td>\n",
       "      <td>11</td>\n",
       "      <td>0</td>\n",
       "      <td>138</td>\n",
       "      <td>127</td>\n",
       "    </tr>\n",
       "    <tr>\n",
       "      <th>8</th>\n",
       "      <td>Madhya Pradesh</td>\n",
       "      <td>23</td>\n",
       "      <td>0</td>\n",
       "      <td>0</td>\n",
       "      <td>1</td>\n",
       "      <td>23</td>\n",
       "      <td>22</td>\n",
       "    </tr>\n",
       "    <tr>\n",
       "      <th>9</th>\n",
       "      <td>Maharashtra</td>\n",
       "      <td>144</td>\n",
       "      <td>3</td>\n",
       "      <td>15</td>\n",
       "      <td>4</td>\n",
       "      <td>147</td>\n",
       "      <td>128</td>\n",
       "    </tr>\n",
       "    <tr>\n",
       "      <th>10</th>\n",
       "      <td>Odisha</td>\n",
       "      <td>3</td>\n",
       "      <td>0</td>\n",
       "      <td>0</td>\n",
       "      <td>0</td>\n",
       "      <td>3</td>\n",
       "      <td>3</td>\n",
       "    </tr>\n",
       "    <tr>\n",
       "      <th>11</th>\n",
       "      <td>Puducherry</td>\n",
       "      <td>1</td>\n",
       "      <td>0</td>\n",
       "      <td>0</td>\n",
       "      <td>0</td>\n",
       "      <td>1</td>\n",
       "      <td>1</td>\n",
       "    </tr>\n",
       "    <tr>\n",
       "      <th>12</th>\n",
       "      <td>Punjab</td>\n",
       "      <td>29</td>\n",
       "      <td>0</td>\n",
       "      <td>0</td>\n",
       "      <td>1</td>\n",
       "      <td>29</td>\n",
       "      <td>28</td>\n",
       "    </tr>\n",
       "    <tr>\n",
       "      <th>13</th>\n",
       "      <td>Rajasthan</td>\n",
       "      <td>41</td>\n",
       "      <td>2</td>\n",
       "      <td>3</td>\n",
       "      <td>0</td>\n",
       "      <td>43</td>\n",
       "      <td>40</td>\n",
       "    </tr>\n",
       "    <tr>\n",
       "      <th>14</th>\n",
       "      <td>Tamil Nadu</td>\n",
       "      <td>32</td>\n",
       "      <td>3</td>\n",
       "      <td>1</td>\n",
       "      <td>1</td>\n",
       "      <td>35</td>\n",
       "      <td>33</td>\n",
       "    </tr>\n",
       "    <tr>\n",
       "      <th>15</th>\n",
       "      <td>Telengana</td>\n",
       "      <td>34</td>\n",
       "      <td>11</td>\n",
       "      <td>1</td>\n",
       "      <td>0</td>\n",
       "      <td>45</td>\n",
       "      <td>44</td>\n",
       "    </tr>\n",
       "    <tr>\n",
       "      <th>16</th>\n",
       "      <td>Chandigarh</td>\n",
       "      <td>7</td>\n",
       "      <td>0</td>\n",
       "      <td>0</td>\n",
       "      <td>0</td>\n",
       "      <td>7</td>\n",
       "      <td>7</td>\n",
       "    </tr>\n",
       "    <tr>\n",
       "      <th>17</th>\n",
       "      <td>Jammu and Kashmir</td>\n",
       "      <td>18</td>\n",
       "      <td>0</td>\n",
       "      <td>1</td>\n",
       "      <td>1</td>\n",
       "      <td>18</td>\n",
       "      <td>16</td>\n",
       "    </tr>\n",
       "    <tr>\n",
       "      <th>18</th>\n",
       "      <td>Ladakh</td>\n",
       "      <td>13</td>\n",
       "      <td>0</td>\n",
       "      <td>0</td>\n",
       "      <td>0</td>\n",
       "      <td>13</td>\n",
       "      <td>13</td>\n",
       "    </tr>\n",
       "    <tr>\n",
       "      <th>19</th>\n",
       "      <td>Uttar Pradesh</td>\n",
       "      <td>42</td>\n",
       "      <td>1</td>\n",
       "      <td>11</td>\n",
       "      <td>0</td>\n",
       "      <td>43</td>\n",
       "      <td>32</td>\n",
       "    </tr>\n",
       "    <tr>\n",
       "      <th>20</th>\n",
       "      <td>Uttarakhand</td>\n",
       "      <td>4</td>\n",
       "      <td>0</td>\n",
       "      <td>0</td>\n",
       "      <td>0</td>\n",
       "      <td>4</td>\n",
       "      <td>4</td>\n",
       "    </tr>\n",
       "    <tr>\n",
       "      <th>21</th>\n",
       "      <td>West Bengal</td>\n",
       "      <td>11</td>\n",
       "      <td>0</td>\n",
       "      <td>0</td>\n",
       "      <td>1</td>\n",
       "      <td>11</td>\n",
       "      <td>10</td>\n",
       "    </tr>\n",
       "    <tr>\n",
       "      <th>22</th>\n",
       "      <td>Bihar</td>\n",
       "      <td>7</td>\n",
       "      <td>0</td>\n",
       "      <td>0</td>\n",
       "      <td>1</td>\n",
       "      <td>7</td>\n",
       "      <td>6</td>\n",
       "    </tr>\n",
       "    <tr>\n",
       "      <th>23</th>\n",
       "      <td>Mizoram</td>\n",
       "      <td>1</td>\n",
       "      <td>0</td>\n",
       "      <td>0</td>\n",
       "      <td>0</td>\n",
       "      <td>1</td>\n",
       "      <td>1</td>\n",
       "    </tr>\n",
       "    <tr>\n",
       "      <th>24</th>\n",
       "      <td>Goa</td>\n",
       "      <td>6</td>\n",
       "      <td>0</td>\n",
       "      <td>0</td>\n",
       "      <td>0</td>\n",
       "      <td>6</td>\n",
       "      <td>6</td>\n",
       "    </tr>\n",
       "    <tr>\n",
       "      <th>25</th>\n",
       "      <td>Manipur</td>\n",
       "      <td>1</td>\n",
       "      <td>0</td>\n",
       "      <td>0</td>\n",
       "      <td>0</td>\n",
       "      <td>1</td>\n",
       "      <td>1</td>\n",
       "    </tr>\n",
       "  </tbody>\n",
       "</table>\n",
       "</div>"
      ],
      "text/plain": [
       "   Name of State / UT  Total Confirmed cases (Indian National)  \\\n",
       "0      Andhra Pradesh                                       12   \n",
       "1        Chhattisgarh                                        6   \n",
       "2               Delhi                                       38   \n",
       "3             Gujarat                                       43   \n",
       "4             Haryana                                       16   \n",
       "5    Himachal Pradesh                                        4   \n",
       "6           Karnataka                                       20   \n",
       "7              Kerala                                      131   \n",
       "8      Madhya Pradesh                                       23   \n",
       "9         Maharashtra                                      144   \n",
       "10             Odisha                                        3   \n",
       "11         Puducherry                                        1   \n",
       "12             Punjab                                       29   \n",
       "13          Rajasthan                                       41   \n",
       "14         Tamil Nadu                                       32   \n",
       "15          Telengana                                       34   \n",
       "16         Chandigarh                                        7   \n",
       "17  Jammu and Kashmir                                       18   \n",
       "18             Ladakh                                       13   \n",
       "19      Uttar Pradesh                                       42   \n",
       "20        Uttarakhand                                        4   \n",
       "21        West Bengal                                       11   \n",
       "22              Bihar                                        7   \n",
       "23            Mizoram                                        1   \n",
       "24                Goa                                        6   \n",
       "25            Manipur                                        1   \n",
       "\n",
       "    Total Confirmed cases ( Foreign National )  Cured  Death  Total Cases  \\\n",
       "0                                            0      1      0           12   \n",
       "1                                            0      0      0            6   \n",
       "2                                            1      6      1           39   \n",
       "3                                            0      0      3           43   \n",
       "4                                           14     11      0           30   \n",
       "5                                            0      0      1            4   \n",
       "6                                            0      3      2           20   \n",
       "7                                            7     11      0          138   \n",
       "8                                            0      0      1           23   \n",
       "9                                            3     15      4          147   \n",
       "10                                           0      0      0            3   \n",
       "11                                           0      0      0            1   \n",
       "12                                           0      0      1           29   \n",
       "13                                           2      3      0           43   \n",
       "14                                           3      1      1           35   \n",
       "15                                          11      1      0           45   \n",
       "16                                           0      0      0            7   \n",
       "17                                           0      1      1           18   \n",
       "18                                           0      0      0           13   \n",
       "19                                           1     11      0           43   \n",
       "20                                           0      0      0            4   \n",
       "21                                           0      0      1           11   \n",
       "22                                           0      0      1            7   \n",
       "23                                           0      0      0            1   \n",
       "24                                           0      0      0            6   \n",
       "25                                           0      0      0            1   \n",
       "\n",
       "    Active Cases  \n",
       "0             11  \n",
       "1              6  \n",
       "2             32  \n",
       "3             40  \n",
       "4             19  \n",
       "5              3  \n",
       "6             15  \n",
       "7            127  \n",
       "8             22  \n",
       "9            128  \n",
       "10             3  \n",
       "11             1  \n",
       "12            28  \n",
       "13            40  \n",
       "14            33  \n",
       "15            44  \n",
       "16             7  \n",
       "17            16  \n",
       "18            13  \n",
       "19            32  \n",
       "20             4  \n",
       "21            10  \n",
       "22             6  \n",
       "23             1  \n",
       "24             6  \n",
       "25             1  "
      ]
     },
     "execution_count": 55,
     "metadata": {},
     "output_type": "execute_result"
    }
   ],
   "source": [
    "df"
   ]
  },
  {
   "cell_type": "code",
   "execution_count": 56,
   "metadata": {
    "collapsed": true
   },
   "outputs": [
    {
     "data": {
      "text/html": [
       "<style  type=\"text/css\" >\n",
       "    #T_c78685a6_7c68_11ea_9bdb_14dda9820221row0_col1 {\n",
       "            background-color:  #fee8de;\n",
       "            color:  #000000;\n",
       "        }    #T_c78685a6_7c68_11ea_9bdb_14dda9820221row0_col2 {\n",
       "            background-color:  #fff5f0;\n",
       "            color:  #000000;\n",
       "        }    #T_c78685a6_7c68_11ea_9bdb_14dda9820221row0_col3 {\n",
       "            background-color:  #feeae0;\n",
       "            color:  #000000;\n",
       "        }    #T_c78685a6_7c68_11ea_9bdb_14dda9820221row0_col4 {\n",
       "            background-color:  #fff5f0;\n",
       "            color:  #000000;\n",
       "        }    #T_c78685a6_7c68_11ea_9bdb_14dda9820221row0_col5 {\n",
       "            background-color:  #fee8de;\n",
       "            color:  #000000;\n",
       "        }    #T_c78685a6_7c68_11ea_9bdb_14dda9820221row0_col6 {\n",
       "            background-color:  #fee8dd;\n",
       "            color:  #000000;\n",
       "        }    #T_c78685a6_7c68_11ea_9bdb_14dda9820221row1_col1 {\n",
       "            background-color:  #fff0e8;\n",
       "            color:  #000000;\n",
       "        }    #T_c78685a6_7c68_11ea_9bdb_14dda9820221row1_col2 {\n",
       "            background-color:  #fff5f0;\n",
       "            color:  #000000;\n",
       "        }    #T_c78685a6_7c68_11ea_9bdb_14dda9820221row1_col3 {\n",
       "            background-color:  #fff5f0;\n",
       "            color:  #000000;\n",
       "        }    #T_c78685a6_7c68_11ea_9bdb_14dda9820221row1_col4 {\n",
       "            background-color:  #fff5f0;\n",
       "            color:  #000000;\n",
       "        }    #T_c78685a6_7c68_11ea_9bdb_14dda9820221row1_col5 {\n",
       "            background-color:  #fff0e8;\n",
       "            color:  #000000;\n",
       "        }    #T_c78685a6_7c68_11ea_9bdb_14dda9820221row1_col6 {\n",
       "            background-color:  #ffeee7;\n",
       "            color:  #000000;\n",
       "        }    #T_c78685a6_7c68_11ea_9bdb_14dda9820221row2_col1 {\n",
       "            background-color:  #fcb89e;\n",
       "            color:  #000000;\n",
       "        }    #T_c78685a6_7c68_11ea_9bdb_14dda9820221row2_col2 {\n",
       "            background-color:  #fee9df;\n",
       "            color:  #000000;\n",
       "        }    #T_c78685a6_7c68_11ea_9bdb_14dda9820221row2_col3 {\n",
       "            background-color:  #fc8a6a;\n",
       "            color:  #000000;\n",
       "        }    #T_c78685a6_7c68_11ea_9bdb_14dda9820221row2_col4 {\n",
       "            background-color:  #fcbba1;\n",
       "            color:  #000000;\n",
       "        }    #T_c78685a6_7c68_11ea_9bdb_14dda9820221row2_col5 {\n",
       "            background-color:  #fcb89e;\n",
       "            color:  #000000;\n",
       "        }    #T_c78685a6_7c68_11ea_9bdb_14dda9820221row2_col6 {\n",
       "            background-color:  #fcbda4;\n",
       "            color:  #000000;\n",
       "        }    #T_c78685a6_7c68_11ea_9bdb_14dda9820221row3_col1 {\n",
       "            background-color:  #fcad90;\n",
       "            color:  #000000;\n",
       "        }    #T_c78685a6_7c68_11ea_9bdb_14dda9820221row3_col2 {\n",
       "            background-color:  #fff5f0;\n",
       "            color:  #000000;\n",
       "        }    #T_c78685a6_7c68_11ea_9bdb_14dda9820221row3_col3 {\n",
       "            background-color:  #fff5f0;\n",
       "            color:  #000000;\n",
       "        }    #T_c78685a6_7c68_11ea_9bdb_14dda9820221row3_col4 {\n",
       "            background-color:  #ca181d;\n",
       "            color:  #f1f1f1;\n",
       "        }    #T_c78685a6_7c68_11ea_9bdb_14dda9820221row3_col5 {\n",
       "            background-color:  #fcaf93;\n",
       "            color:  #000000;\n",
       "        }    #T_c78685a6_7c68_11ea_9bdb_14dda9820221row3_col6 {\n",
       "            background-color:  #fca98c;\n",
       "            color:  #000000;\n",
       "        }    #T_c78685a6_7c68_11ea_9bdb_14dda9820221row4_col1 {\n",
       "            background-color:  #fee4d8;\n",
       "            color:  #000000;\n",
       "        }    #T_c78685a6_7c68_11ea_9bdb_14dda9820221row4_col2 {\n",
       "            background-color:  #67000d;\n",
       "            color:  #f1f1f1;\n",
       "        }    #T_c78685a6_7c68_11ea_9bdb_14dda9820221row4_col3 {\n",
       "            background-color:  #d01d1f;\n",
       "            color:  #f1f1f1;\n",
       "        }    #T_c78685a6_7c68_11ea_9bdb_14dda9820221row4_col4 {\n",
       "            background-color:  #fff5f0;\n",
       "            color:  #000000;\n",
       "        }    #T_c78685a6_7c68_11ea_9bdb_14dda9820221row4_col5 {\n",
       "            background-color:  #fdcbb6;\n",
       "            color:  #000000;\n",
       "        }    #T_c78685a6_7c68_11ea_9bdb_14dda9820221row4_col6 {\n",
       "            background-color:  #fedbcc;\n",
       "            color:  #000000;\n",
       "        }    #T_c78685a6_7c68_11ea_9bdb_14dda9820221row5_col1 {\n",
       "            background-color:  #fff2eb;\n",
       "            color:  #000000;\n",
       "        }    #T_c78685a6_7c68_11ea_9bdb_14dda9820221row5_col2 {\n",
       "            background-color:  #fff5f0;\n",
       "            color:  #000000;\n",
       "        }    #T_c78685a6_7c68_11ea_9bdb_14dda9820221row5_col3 {\n",
       "            background-color:  #fff5f0;\n",
       "            color:  #000000;\n",
       "        }    #T_c78685a6_7c68_11ea_9bdb_14dda9820221row5_col4 {\n",
       "            background-color:  #fcbba1;\n",
       "            color:  #000000;\n",
       "        }    #T_c78685a6_7c68_11ea_9bdb_14dda9820221row5_col5 {\n",
       "            background-color:  #fff2eb;\n",
       "            color:  #000000;\n",
       "        }    #T_c78685a6_7c68_11ea_9bdb_14dda9820221row5_col6 {\n",
       "            background-color:  #fff2ec;\n",
       "            color:  #000000;\n",
       "        }    #T_c78685a6_7c68_11ea_9bdb_14dda9820221row6_col1 {\n",
       "            background-color:  #fedecf;\n",
       "            color:  #000000;\n",
       "        }    #T_c78685a6_7c68_11ea_9bdb_14dda9820221row6_col2 {\n",
       "            background-color:  #fff5f0;\n",
       "            color:  #000000;\n",
       "        }    #T_c78685a6_7c68_11ea_9bdb_14dda9820221row6_col3 {\n",
       "            background-color:  #fdcab5;\n",
       "            color:  #000000;\n",
       "        }    #T_c78685a6_7c68_11ea_9bdb_14dda9820221row6_col4 {\n",
       "            background-color:  #fb694a;\n",
       "            color:  #000000;\n",
       "        }    #T_c78685a6_7c68_11ea_9bdb_14dda9820221row6_col5 {\n",
       "            background-color:  #fedfd0;\n",
       "            color:  #000000;\n",
       "        }    #T_c78685a6_7c68_11ea_9bdb_14dda9820221row6_col6 {\n",
       "            background-color:  #fee3d6;\n",
       "            color:  #000000;\n",
       "        }    #T_c78685a6_7c68_11ea_9bdb_14dda9820221row7_col1 {\n",
       "            background-color:  #940b13;\n",
       "            color:  #f1f1f1;\n",
       "        }    #T_c78685a6_7c68_11ea_9bdb_14dda9820221row7_col2 {\n",
       "            background-color:  #fb694a;\n",
       "            color:  #000000;\n",
       "        }    #T_c78685a6_7c68_11ea_9bdb_14dda9820221row7_col3 {\n",
       "            background-color:  #d01d1f;\n",
       "            color:  #f1f1f1;\n",
       "        }    #T_c78685a6_7c68_11ea_9bdb_14dda9820221row7_col4 {\n",
       "            background-color:  #fff5f0;\n",
       "            color:  #000000;\n",
       "        }    #T_c78685a6_7c68_11ea_9bdb_14dda9820221row7_col5 {\n",
       "            background-color:  #840711;\n",
       "            color:  #f1f1f1;\n",
       "        }    #T_c78685a6_7c68_11ea_9bdb_14dda9820221row7_col6 {\n",
       "            background-color:  #6b010e;\n",
       "            color:  #f1f1f1;\n",
       "        }    #T_c78685a6_7c68_11ea_9bdb_14dda9820221row8_col1 {\n",
       "            background-color:  #fed8c7;\n",
       "            color:  #000000;\n",
       "        }    #T_c78685a6_7c68_11ea_9bdb_14dda9820221row8_col2 {\n",
       "            background-color:  #fff5f0;\n",
       "            color:  #000000;\n",
       "        }    #T_c78685a6_7c68_11ea_9bdb_14dda9820221row8_col3 {\n",
       "            background-color:  #fff5f0;\n",
       "            color:  #000000;\n",
       "        }    #T_c78685a6_7c68_11ea_9bdb_14dda9820221row8_col4 {\n",
       "            background-color:  #fcbba1;\n",
       "            color:  #000000;\n",
       "        }    #T_c78685a6_7c68_11ea_9bdb_14dda9820221row8_col5 {\n",
       "            background-color:  #fed9c9;\n",
       "            color:  #000000;\n",
       "        }    #T_c78685a6_7c68_11ea_9bdb_14dda9820221row8_col6 {\n",
       "            background-color:  #fdd4c2;\n",
       "            color:  #000000;\n",
       "        }    #T_c78685a6_7c68_11ea_9bdb_14dda9820221row9_col1 {\n",
       "            background-color:  #67000d;\n",
       "            color:  #f1f1f1;\n",
       "        }    #T_c78685a6_7c68_11ea_9bdb_14dda9820221row9_col2 {\n",
       "            background-color:  #fdc6b0;\n",
       "            color:  #000000;\n",
       "        }    #T_c78685a6_7c68_11ea_9bdb_14dda9820221row9_col3 {\n",
       "            background-color:  #67000d;\n",
       "            color:  #f1f1f1;\n",
       "        }    #T_c78685a6_7c68_11ea_9bdb_14dda9820221row9_col4 {\n",
       "            background-color:  #67000d;\n",
       "            color:  #f1f1f1;\n",
       "        }    #T_c78685a6_7c68_11ea_9bdb_14dda9820221row9_col5 {\n",
       "            background-color:  #67000d;\n",
       "            color:  #f1f1f1;\n",
       "        }    #T_c78685a6_7c68_11ea_9bdb_14dda9820221row9_col6 {\n",
       "            background-color:  #67000d;\n",
       "            color:  #f1f1f1;\n",
       "        }    #T_c78685a6_7c68_11ea_9bdb_14dda9820221row10_col1 {\n",
       "            background-color:  #fff3ed;\n",
       "            color:  #000000;\n",
       "        }    #T_c78685a6_7c68_11ea_9bdb_14dda9820221row10_col2 {\n",
       "            background-color:  #fff5f0;\n",
       "            color:  #000000;\n",
       "        }    #T_c78685a6_7c68_11ea_9bdb_14dda9820221row10_col3 {\n",
       "            background-color:  #fff5f0;\n",
       "            color:  #000000;\n",
       "        }    #T_c78685a6_7c68_11ea_9bdb_14dda9820221row10_col4 {\n",
       "            background-color:  #fff5f0;\n",
       "            color:  #000000;\n",
       "        }    #T_c78685a6_7c68_11ea_9bdb_14dda9820221row10_col5 {\n",
       "            background-color:  #fff3ed;\n",
       "            color:  #000000;\n",
       "        }    #T_c78685a6_7c68_11ea_9bdb_14dda9820221row10_col6 {\n",
       "            background-color:  #fff2ec;\n",
       "            color:  #000000;\n",
       "        }    #T_c78685a6_7c68_11ea_9bdb_14dda9820221row11_col1 {\n",
       "            background-color:  #fff5f0;\n",
       "            color:  #000000;\n",
       "        }    #T_c78685a6_7c68_11ea_9bdb_14dda9820221row11_col2 {\n",
       "            background-color:  #fff5f0;\n",
       "            color:  #000000;\n",
       "        }    #T_c78685a6_7c68_11ea_9bdb_14dda9820221row11_col3 {\n",
       "            background-color:  #fff5f0;\n",
       "            color:  #000000;\n",
       "        }    #T_c78685a6_7c68_11ea_9bdb_14dda9820221row11_col4 {\n",
       "            background-color:  #fff5f0;\n",
       "            color:  #000000;\n",
       "        }    #T_c78685a6_7c68_11ea_9bdb_14dda9820221row11_col5 {\n",
       "            background-color:  #fff5f0;\n",
       "            color:  #000000;\n",
       "        }    #T_c78685a6_7c68_11ea_9bdb_14dda9820221row11_col6 {\n",
       "            background-color:  #fff5f0;\n",
       "            color:  #000000;\n",
       "        }    #T_c78685a6_7c68_11ea_9bdb_14dda9820221row12_col1 {\n",
       "            background-color:  #fdcbb6;\n",
       "            color:  #000000;\n",
       "        }    #T_c78685a6_7c68_11ea_9bdb_14dda9820221row12_col2 {\n",
       "            background-color:  #fff5f0;\n",
       "            color:  #000000;\n",
       "        }    #T_c78685a6_7c68_11ea_9bdb_14dda9820221row12_col3 {\n",
       "            background-color:  #fff5f0;\n",
       "            color:  #000000;\n",
       "        }    #T_c78685a6_7c68_11ea_9bdb_14dda9820221row12_col4 {\n",
       "            background-color:  #fcbba1;\n",
       "            color:  #000000;\n",
       "        }    #T_c78685a6_7c68_11ea_9bdb_14dda9820221row12_col5 {\n",
       "            background-color:  #fdccb8;\n",
       "            color:  #000000;\n",
       "        }    #T_c78685a6_7c68_11ea_9bdb_14dda9820221row12_col6 {\n",
       "            background-color:  #fdc6b0;\n",
       "            color:  #000000;\n",
       "        }    #T_c78685a6_7c68_11ea_9bdb_14dda9820221row13_col1 {\n",
       "            background-color:  #fcb296;\n",
       "            color:  #000000;\n",
       "        }    #T_c78685a6_7c68_11ea_9bdb_14dda9820221row13_col2 {\n",
       "            background-color:  #fedbcc;\n",
       "            color:  #000000;\n",
       "        }    #T_c78685a6_7c68_11ea_9bdb_14dda9820221row13_col3 {\n",
       "            background-color:  #fdcab5;\n",
       "            color:  #000000;\n",
       "        }    #T_c78685a6_7c68_11ea_9bdb_14dda9820221row13_col4 {\n",
       "            background-color:  #fff5f0;\n",
       "            color:  #000000;\n",
       "        }    #T_c78685a6_7c68_11ea_9bdb_14dda9820221row13_col5 {\n",
       "            background-color:  #fcaf93;\n",
       "            color:  #000000;\n",
       "        }    #T_c78685a6_7c68_11ea_9bdb_14dda9820221row13_col6 {\n",
       "            background-color:  #fca98c;\n",
       "            color:  #000000;\n",
       "        }    #T_c78685a6_7c68_11ea_9bdb_14dda9820221row14_col1 {\n",
       "            background-color:  #fdc5ae;\n",
       "            color:  #000000;\n",
       "        }    #T_c78685a6_7c68_11ea_9bdb_14dda9820221row14_col2 {\n",
       "            background-color:  #fdc6b0;\n",
       "            color:  #000000;\n",
       "        }    #T_c78685a6_7c68_11ea_9bdb_14dda9820221row14_col3 {\n",
       "            background-color:  #feeae0;\n",
       "            color:  #000000;\n",
       "        }    #T_c78685a6_7c68_11ea_9bdb_14dda9820221row14_col4 {\n",
       "            background-color:  #fcbba1;\n",
       "            color:  #000000;\n",
       "        }    #T_c78685a6_7c68_11ea_9bdb_14dda9820221row14_col5 {\n",
       "            background-color:  #fcc1a8;\n",
       "            color:  #000000;\n",
       "        }    #T_c78685a6_7c68_11ea_9bdb_14dda9820221row14_col6 {\n",
       "            background-color:  #fcbba1;\n",
       "            color:  #000000;\n",
       "        }    #T_c78685a6_7c68_11ea_9bdb_14dda9820221row15_col1 {\n",
       "            background-color:  #fcc1a8;\n",
       "            color:  #000000;\n",
       "        }    #T_c78685a6_7c68_11ea_9bdb_14dda9820221row15_col2 {\n",
       "            background-color:  #bf151b;\n",
       "            color:  #f1f1f1;\n",
       "        }    #T_c78685a6_7c68_11ea_9bdb_14dda9820221row15_col3 {\n",
       "            background-color:  #feeae0;\n",
       "            color:  #000000;\n",
       "        }    #T_c78685a6_7c68_11ea_9bdb_14dda9820221row15_col4 {\n",
       "            background-color:  #fff5f0;\n",
       "            color:  #000000;\n",
       "        }    #T_c78685a6_7c68_11ea_9bdb_14dda9820221row15_col5 {\n",
       "            background-color:  #fcaa8d;\n",
       "            color:  #000000;\n",
       "        }    #T_c78685a6_7c68_11ea_9bdb_14dda9820221row15_col6 {\n",
       "            background-color:  #fc9e80;\n",
       "            color:  #000000;\n",
       "        }    #T_c78685a6_7c68_11ea_9bdb_14dda9820221row16_col1 {\n",
       "            background-color:  #ffeee7;\n",
       "            color:  #000000;\n",
       "        }    #T_c78685a6_7c68_11ea_9bdb_14dda9820221row16_col2 {\n",
       "            background-color:  #fff5f0;\n",
       "            color:  #000000;\n",
       "        }    #T_c78685a6_7c68_11ea_9bdb_14dda9820221row16_col3 {\n",
       "            background-color:  #fff5f0;\n",
       "            color:  #000000;\n",
       "        }    #T_c78685a6_7c68_11ea_9bdb_14dda9820221row16_col4 {\n",
       "            background-color:  #fff5f0;\n",
       "            color:  #000000;\n",
       "        }    #T_c78685a6_7c68_11ea_9bdb_14dda9820221row16_col5 {\n",
       "            background-color:  #ffeee7;\n",
       "            color:  #000000;\n",
       "        }    #T_c78685a6_7c68_11ea_9bdb_14dda9820221row16_col6 {\n",
       "            background-color:  #ffede5;\n",
       "            color:  #000000;\n",
       "        }    #T_c78685a6_7c68_11ea_9bdb_14dda9820221row17_col1 {\n",
       "            background-color:  #fee1d4;\n",
       "            color:  #000000;\n",
       "        }    #T_c78685a6_7c68_11ea_9bdb_14dda9820221row17_col2 {\n",
       "            background-color:  #fff5f0;\n",
       "            color:  #000000;\n",
       "        }    #T_c78685a6_7c68_11ea_9bdb_14dda9820221row17_col3 {\n",
       "            background-color:  #feeae0;\n",
       "            color:  #000000;\n",
       "        }    #T_c78685a6_7c68_11ea_9bdb_14dda9820221row17_col4 {\n",
       "            background-color:  #fcbba1;\n",
       "            color:  #000000;\n",
       "        }    #T_c78685a6_7c68_11ea_9bdb_14dda9820221row17_col5 {\n",
       "            background-color:  #fee2d5;\n",
       "            color:  #000000;\n",
       "        }    #T_c78685a6_7c68_11ea_9bdb_14dda9820221row17_col6 {\n",
       "            background-color:  #fee1d4;\n",
       "            color:  #000000;\n",
       "        }    #T_c78685a6_7c68_11ea_9bdb_14dda9820221row18_col1 {\n",
       "            background-color:  #fee7dc;\n",
       "            color:  #000000;\n",
       "        }    #T_c78685a6_7c68_11ea_9bdb_14dda9820221row18_col2 {\n",
       "            background-color:  #fff5f0;\n",
       "            color:  #000000;\n",
       "        }    #T_c78685a6_7c68_11ea_9bdb_14dda9820221row18_col3 {\n",
       "            background-color:  #fff5f0;\n",
       "            color:  #000000;\n",
       "        }    #T_c78685a6_7c68_11ea_9bdb_14dda9820221row18_col4 {\n",
       "            background-color:  #fff5f0;\n",
       "            color:  #000000;\n",
       "        }    #T_c78685a6_7c68_11ea_9bdb_14dda9820221row18_col5 {\n",
       "            background-color:  #fee7dc;\n",
       "            color:  #000000;\n",
       "        }    #T_c78685a6_7c68_11ea_9bdb_14dda9820221row18_col6 {\n",
       "            background-color:  #fee5d9;\n",
       "            color:  #000000;\n",
       "        }    #T_c78685a6_7c68_11ea_9bdb_14dda9820221row19_col1 {\n",
       "            background-color:  #fcaf93;\n",
       "            color:  #000000;\n",
       "        }    #T_c78685a6_7c68_11ea_9bdb_14dda9820221row19_col2 {\n",
       "            background-color:  #fee9df;\n",
       "            color:  #000000;\n",
       "        }    #T_c78685a6_7c68_11ea_9bdb_14dda9820221row19_col3 {\n",
       "            background-color:  #d01d1f;\n",
       "            color:  #f1f1f1;\n",
       "        }    #T_c78685a6_7c68_11ea_9bdb_14dda9820221row19_col4 {\n",
       "            background-color:  #fff5f0;\n",
       "            color:  #000000;\n",
       "        }    #T_c78685a6_7c68_11ea_9bdb_14dda9820221row19_col5 {\n",
       "            background-color:  #fcaf93;\n",
       "            color:  #000000;\n",
       "        }    #T_c78685a6_7c68_11ea_9bdb_14dda9820221row19_col6 {\n",
       "            background-color:  #fcbda4;\n",
       "            color:  #000000;\n",
       "        }    #T_c78685a6_7c68_11ea_9bdb_14dda9820221row20_col1 {\n",
       "            background-color:  #fff2eb;\n",
       "            color:  #000000;\n",
       "        }    #T_c78685a6_7c68_11ea_9bdb_14dda9820221row20_col2 {\n",
       "            background-color:  #fff5f0;\n",
       "            color:  #000000;\n",
       "        }    #T_c78685a6_7c68_11ea_9bdb_14dda9820221row20_col3 {\n",
       "            background-color:  #fff5f0;\n",
       "            color:  #000000;\n",
       "        }    #T_c78685a6_7c68_11ea_9bdb_14dda9820221row20_col4 {\n",
       "            background-color:  #fff5f0;\n",
       "            color:  #000000;\n",
       "        }    #T_c78685a6_7c68_11ea_9bdb_14dda9820221row20_col5 {\n",
       "            background-color:  #fff2eb;\n",
       "            color:  #000000;\n",
       "        }    #T_c78685a6_7c68_11ea_9bdb_14dda9820221row20_col6 {\n",
       "            background-color:  #fff1ea;\n",
       "            color:  #000000;\n",
       "        }    #T_c78685a6_7c68_11ea_9bdb_14dda9820221row21_col1 {\n",
       "            background-color:  #feeae0;\n",
       "            color:  #000000;\n",
       "        }    #T_c78685a6_7c68_11ea_9bdb_14dda9820221row21_col2 {\n",
       "            background-color:  #fff5f0;\n",
       "            color:  #000000;\n",
       "        }    #T_c78685a6_7c68_11ea_9bdb_14dda9820221row21_col3 {\n",
       "            background-color:  #fff5f0;\n",
       "            color:  #000000;\n",
       "        }    #T_c78685a6_7c68_11ea_9bdb_14dda9820221row21_col4 {\n",
       "            background-color:  #fcbba1;\n",
       "            color:  #000000;\n",
       "        }    #T_c78685a6_7c68_11ea_9bdb_14dda9820221row21_col5 {\n",
       "            background-color:  #feeae0;\n",
       "            color:  #000000;\n",
       "        }    #T_c78685a6_7c68_11ea_9bdb_14dda9820221row21_col6 {\n",
       "            background-color:  #fee9df;\n",
       "            color:  #000000;\n",
       "        }    #T_c78685a6_7c68_11ea_9bdb_14dda9820221row22_col1 {\n",
       "            background-color:  #ffeee7;\n",
       "            color:  #000000;\n",
       "        }    #T_c78685a6_7c68_11ea_9bdb_14dda9820221row22_col2 {\n",
       "            background-color:  #fff5f0;\n",
       "            color:  #000000;\n",
       "        }    #T_c78685a6_7c68_11ea_9bdb_14dda9820221row22_col3 {\n",
       "            background-color:  #fff5f0;\n",
       "            color:  #000000;\n",
       "        }    #T_c78685a6_7c68_11ea_9bdb_14dda9820221row22_col4 {\n",
       "            background-color:  #fcbba1;\n",
       "            color:  #000000;\n",
       "        }    #T_c78685a6_7c68_11ea_9bdb_14dda9820221row22_col5 {\n",
       "            background-color:  #ffeee7;\n",
       "            color:  #000000;\n",
       "        }    #T_c78685a6_7c68_11ea_9bdb_14dda9820221row22_col6 {\n",
       "            background-color:  #ffeee7;\n",
       "            color:  #000000;\n",
       "        }    #T_c78685a6_7c68_11ea_9bdb_14dda9820221row23_col1 {\n",
       "            background-color:  #fff5f0;\n",
       "            color:  #000000;\n",
       "        }    #T_c78685a6_7c68_11ea_9bdb_14dda9820221row23_col2 {\n",
       "            background-color:  #fff5f0;\n",
       "            color:  #000000;\n",
       "        }    #T_c78685a6_7c68_11ea_9bdb_14dda9820221row23_col3 {\n",
       "            background-color:  #fff5f0;\n",
       "            color:  #000000;\n",
       "        }    #T_c78685a6_7c68_11ea_9bdb_14dda9820221row23_col4 {\n",
       "            background-color:  #fff5f0;\n",
       "            color:  #000000;\n",
       "        }    #T_c78685a6_7c68_11ea_9bdb_14dda9820221row23_col5 {\n",
       "            background-color:  #fff5f0;\n",
       "            color:  #000000;\n",
       "        }    #T_c78685a6_7c68_11ea_9bdb_14dda9820221row23_col6 {\n",
       "            background-color:  #fff5f0;\n",
       "            color:  #000000;\n",
       "        }    #T_c78685a6_7c68_11ea_9bdb_14dda9820221row24_col1 {\n",
       "            background-color:  #fff0e8;\n",
       "            color:  #000000;\n",
       "        }    #T_c78685a6_7c68_11ea_9bdb_14dda9820221row24_col2 {\n",
       "            background-color:  #fff5f0;\n",
       "            color:  #000000;\n",
       "        }    #T_c78685a6_7c68_11ea_9bdb_14dda9820221row24_col3 {\n",
       "            background-color:  #fff5f0;\n",
       "            color:  #000000;\n",
       "        }    #T_c78685a6_7c68_11ea_9bdb_14dda9820221row24_col4 {\n",
       "            background-color:  #fff5f0;\n",
       "            color:  #000000;\n",
       "        }    #T_c78685a6_7c68_11ea_9bdb_14dda9820221row24_col5 {\n",
       "            background-color:  #fff0e8;\n",
       "            color:  #000000;\n",
       "        }    #T_c78685a6_7c68_11ea_9bdb_14dda9820221row24_col6 {\n",
       "            background-color:  #ffeee7;\n",
       "            color:  #000000;\n",
       "        }    #T_c78685a6_7c68_11ea_9bdb_14dda9820221row25_col1 {\n",
       "            background-color:  #fff5f0;\n",
       "            color:  #000000;\n",
       "        }    #T_c78685a6_7c68_11ea_9bdb_14dda9820221row25_col2 {\n",
       "            background-color:  #fff5f0;\n",
       "            color:  #000000;\n",
       "        }    #T_c78685a6_7c68_11ea_9bdb_14dda9820221row25_col3 {\n",
       "            background-color:  #fff5f0;\n",
       "            color:  #000000;\n",
       "        }    #T_c78685a6_7c68_11ea_9bdb_14dda9820221row25_col4 {\n",
       "            background-color:  #fff5f0;\n",
       "            color:  #000000;\n",
       "        }    #T_c78685a6_7c68_11ea_9bdb_14dda9820221row25_col5 {\n",
       "            background-color:  #fff5f0;\n",
       "            color:  #000000;\n",
       "        }    #T_c78685a6_7c68_11ea_9bdb_14dda9820221row25_col6 {\n",
       "            background-color:  #fff5f0;\n",
       "            color:  #000000;\n",
       "        }</style><table id=\"T_c78685a6_7c68_11ea_9bdb_14dda9820221\" ><thead>    <tr>        <th class=\"blank level0\" ></th>        <th class=\"col_heading level0 col0\" >Name of State / UT</th>        <th class=\"col_heading level0 col1\" >Total Confirmed cases (Indian National)</th>        <th class=\"col_heading level0 col2\" >Total Confirmed cases ( Foreign National )</th>        <th class=\"col_heading level0 col3\" >Cured</th>        <th class=\"col_heading level0 col4\" >Death</th>        <th class=\"col_heading level0 col5\" >Total Cases</th>        <th class=\"col_heading level0 col6\" >Active Cases</th>    </tr></thead><tbody>\n",
       "                <tr>\n",
       "                        <th id=\"T_c78685a6_7c68_11ea_9bdb_14dda9820221level0_row0\" class=\"row_heading level0 row0\" >0</th>\n",
       "                        <td id=\"T_c78685a6_7c68_11ea_9bdb_14dda9820221row0_col0\" class=\"data row0 col0\" >Andhra Pradesh</td>\n",
       "                        <td id=\"T_c78685a6_7c68_11ea_9bdb_14dda9820221row0_col1\" class=\"data row0 col1\" >12</td>\n",
       "                        <td id=\"T_c78685a6_7c68_11ea_9bdb_14dda9820221row0_col2\" class=\"data row0 col2\" >0</td>\n",
       "                        <td id=\"T_c78685a6_7c68_11ea_9bdb_14dda9820221row0_col3\" class=\"data row0 col3\" >1</td>\n",
       "                        <td id=\"T_c78685a6_7c68_11ea_9bdb_14dda9820221row0_col4\" class=\"data row0 col4\" >0</td>\n",
       "                        <td id=\"T_c78685a6_7c68_11ea_9bdb_14dda9820221row0_col5\" class=\"data row0 col5\" >12</td>\n",
       "                        <td id=\"T_c78685a6_7c68_11ea_9bdb_14dda9820221row0_col6\" class=\"data row0 col6\" >11</td>\n",
       "            </tr>\n",
       "            <tr>\n",
       "                        <th id=\"T_c78685a6_7c68_11ea_9bdb_14dda9820221level0_row1\" class=\"row_heading level0 row1\" >1</th>\n",
       "                        <td id=\"T_c78685a6_7c68_11ea_9bdb_14dda9820221row1_col0\" class=\"data row1 col0\" >Chhattisgarh</td>\n",
       "                        <td id=\"T_c78685a6_7c68_11ea_9bdb_14dda9820221row1_col1\" class=\"data row1 col1\" >6</td>\n",
       "                        <td id=\"T_c78685a6_7c68_11ea_9bdb_14dda9820221row1_col2\" class=\"data row1 col2\" >0</td>\n",
       "                        <td id=\"T_c78685a6_7c68_11ea_9bdb_14dda9820221row1_col3\" class=\"data row1 col3\" >0</td>\n",
       "                        <td id=\"T_c78685a6_7c68_11ea_9bdb_14dda9820221row1_col4\" class=\"data row1 col4\" >0</td>\n",
       "                        <td id=\"T_c78685a6_7c68_11ea_9bdb_14dda9820221row1_col5\" class=\"data row1 col5\" >6</td>\n",
       "                        <td id=\"T_c78685a6_7c68_11ea_9bdb_14dda9820221row1_col6\" class=\"data row1 col6\" >6</td>\n",
       "            </tr>\n",
       "            <tr>\n",
       "                        <th id=\"T_c78685a6_7c68_11ea_9bdb_14dda9820221level0_row2\" class=\"row_heading level0 row2\" >2</th>\n",
       "                        <td id=\"T_c78685a6_7c68_11ea_9bdb_14dda9820221row2_col0\" class=\"data row2 col0\" >Delhi</td>\n",
       "                        <td id=\"T_c78685a6_7c68_11ea_9bdb_14dda9820221row2_col1\" class=\"data row2 col1\" >38</td>\n",
       "                        <td id=\"T_c78685a6_7c68_11ea_9bdb_14dda9820221row2_col2\" class=\"data row2 col2\" >1</td>\n",
       "                        <td id=\"T_c78685a6_7c68_11ea_9bdb_14dda9820221row2_col3\" class=\"data row2 col3\" >6</td>\n",
       "                        <td id=\"T_c78685a6_7c68_11ea_9bdb_14dda9820221row2_col4\" class=\"data row2 col4\" >1</td>\n",
       "                        <td id=\"T_c78685a6_7c68_11ea_9bdb_14dda9820221row2_col5\" class=\"data row2 col5\" >39</td>\n",
       "                        <td id=\"T_c78685a6_7c68_11ea_9bdb_14dda9820221row2_col6\" class=\"data row2 col6\" >32</td>\n",
       "            </tr>\n",
       "            <tr>\n",
       "                        <th id=\"T_c78685a6_7c68_11ea_9bdb_14dda9820221level0_row3\" class=\"row_heading level0 row3\" >3</th>\n",
       "                        <td id=\"T_c78685a6_7c68_11ea_9bdb_14dda9820221row3_col0\" class=\"data row3 col0\" >Gujarat</td>\n",
       "                        <td id=\"T_c78685a6_7c68_11ea_9bdb_14dda9820221row3_col1\" class=\"data row3 col1\" >43</td>\n",
       "                        <td id=\"T_c78685a6_7c68_11ea_9bdb_14dda9820221row3_col2\" class=\"data row3 col2\" >0</td>\n",
       "                        <td id=\"T_c78685a6_7c68_11ea_9bdb_14dda9820221row3_col3\" class=\"data row3 col3\" >0</td>\n",
       "                        <td id=\"T_c78685a6_7c68_11ea_9bdb_14dda9820221row3_col4\" class=\"data row3 col4\" >3</td>\n",
       "                        <td id=\"T_c78685a6_7c68_11ea_9bdb_14dda9820221row3_col5\" class=\"data row3 col5\" >43</td>\n",
       "                        <td id=\"T_c78685a6_7c68_11ea_9bdb_14dda9820221row3_col6\" class=\"data row3 col6\" >40</td>\n",
       "            </tr>\n",
       "            <tr>\n",
       "                        <th id=\"T_c78685a6_7c68_11ea_9bdb_14dda9820221level0_row4\" class=\"row_heading level0 row4\" >4</th>\n",
       "                        <td id=\"T_c78685a6_7c68_11ea_9bdb_14dda9820221row4_col0\" class=\"data row4 col0\" >Haryana</td>\n",
       "                        <td id=\"T_c78685a6_7c68_11ea_9bdb_14dda9820221row4_col1\" class=\"data row4 col1\" >16</td>\n",
       "                        <td id=\"T_c78685a6_7c68_11ea_9bdb_14dda9820221row4_col2\" class=\"data row4 col2\" >14</td>\n",
       "                        <td id=\"T_c78685a6_7c68_11ea_9bdb_14dda9820221row4_col3\" class=\"data row4 col3\" >11</td>\n",
       "                        <td id=\"T_c78685a6_7c68_11ea_9bdb_14dda9820221row4_col4\" class=\"data row4 col4\" >0</td>\n",
       "                        <td id=\"T_c78685a6_7c68_11ea_9bdb_14dda9820221row4_col5\" class=\"data row4 col5\" >30</td>\n",
       "                        <td id=\"T_c78685a6_7c68_11ea_9bdb_14dda9820221row4_col6\" class=\"data row4 col6\" >19</td>\n",
       "            </tr>\n",
       "            <tr>\n",
       "                        <th id=\"T_c78685a6_7c68_11ea_9bdb_14dda9820221level0_row5\" class=\"row_heading level0 row5\" >5</th>\n",
       "                        <td id=\"T_c78685a6_7c68_11ea_9bdb_14dda9820221row5_col0\" class=\"data row5 col0\" >Himachal Pradesh</td>\n",
       "                        <td id=\"T_c78685a6_7c68_11ea_9bdb_14dda9820221row5_col1\" class=\"data row5 col1\" >4</td>\n",
       "                        <td id=\"T_c78685a6_7c68_11ea_9bdb_14dda9820221row5_col2\" class=\"data row5 col2\" >0</td>\n",
       "                        <td id=\"T_c78685a6_7c68_11ea_9bdb_14dda9820221row5_col3\" class=\"data row5 col3\" >0</td>\n",
       "                        <td id=\"T_c78685a6_7c68_11ea_9bdb_14dda9820221row5_col4\" class=\"data row5 col4\" >1</td>\n",
       "                        <td id=\"T_c78685a6_7c68_11ea_9bdb_14dda9820221row5_col5\" class=\"data row5 col5\" >4</td>\n",
       "                        <td id=\"T_c78685a6_7c68_11ea_9bdb_14dda9820221row5_col6\" class=\"data row5 col6\" >3</td>\n",
       "            </tr>\n",
       "            <tr>\n",
       "                        <th id=\"T_c78685a6_7c68_11ea_9bdb_14dda9820221level0_row6\" class=\"row_heading level0 row6\" >6</th>\n",
       "                        <td id=\"T_c78685a6_7c68_11ea_9bdb_14dda9820221row6_col0\" class=\"data row6 col0\" >Karnataka</td>\n",
       "                        <td id=\"T_c78685a6_7c68_11ea_9bdb_14dda9820221row6_col1\" class=\"data row6 col1\" >20</td>\n",
       "                        <td id=\"T_c78685a6_7c68_11ea_9bdb_14dda9820221row6_col2\" class=\"data row6 col2\" >0</td>\n",
       "                        <td id=\"T_c78685a6_7c68_11ea_9bdb_14dda9820221row6_col3\" class=\"data row6 col3\" >3</td>\n",
       "                        <td id=\"T_c78685a6_7c68_11ea_9bdb_14dda9820221row6_col4\" class=\"data row6 col4\" >2</td>\n",
       "                        <td id=\"T_c78685a6_7c68_11ea_9bdb_14dda9820221row6_col5\" class=\"data row6 col5\" >20</td>\n",
       "                        <td id=\"T_c78685a6_7c68_11ea_9bdb_14dda9820221row6_col6\" class=\"data row6 col6\" >15</td>\n",
       "            </tr>\n",
       "            <tr>\n",
       "                        <th id=\"T_c78685a6_7c68_11ea_9bdb_14dda9820221level0_row7\" class=\"row_heading level0 row7\" >7</th>\n",
       "                        <td id=\"T_c78685a6_7c68_11ea_9bdb_14dda9820221row7_col0\" class=\"data row7 col0\" >Kerala</td>\n",
       "                        <td id=\"T_c78685a6_7c68_11ea_9bdb_14dda9820221row7_col1\" class=\"data row7 col1\" >131</td>\n",
       "                        <td id=\"T_c78685a6_7c68_11ea_9bdb_14dda9820221row7_col2\" class=\"data row7 col2\" >7</td>\n",
       "                        <td id=\"T_c78685a6_7c68_11ea_9bdb_14dda9820221row7_col3\" class=\"data row7 col3\" >11</td>\n",
       "                        <td id=\"T_c78685a6_7c68_11ea_9bdb_14dda9820221row7_col4\" class=\"data row7 col4\" >0</td>\n",
       "                        <td id=\"T_c78685a6_7c68_11ea_9bdb_14dda9820221row7_col5\" class=\"data row7 col5\" >138</td>\n",
       "                        <td id=\"T_c78685a6_7c68_11ea_9bdb_14dda9820221row7_col6\" class=\"data row7 col6\" >127</td>\n",
       "            </tr>\n",
       "            <tr>\n",
       "                        <th id=\"T_c78685a6_7c68_11ea_9bdb_14dda9820221level0_row8\" class=\"row_heading level0 row8\" >8</th>\n",
       "                        <td id=\"T_c78685a6_7c68_11ea_9bdb_14dda9820221row8_col0\" class=\"data row8 col0\" >Madhya Pradesh</td>\n",
       "                        <td id=\"T_c78685a6_7c68_11ea_9bdb_14dda9820221row8_col1\" class=\"data row8 col1\" >23</td>\n",
       "                        <td id=\"T_c78685a6_7c68_11ea_9bdb_14dda9820221row8_col2\" class=\"data row8 col2\" >0</td>\n",
       "                        <td id=\"T_c78685a6_7c68_11ea_9bdb_14dda9820221row8_col3\" class=\"data row8 col3\" >0</td>\n",
       "                        <td id=\"T_c78685a6_7c68_11ea_9bdb_14dda9820221row8_col4\" class=\"data row8 col4\" >1</td>\n",
       "                        <td id=\"T_c78685a6_7c68_11ea_9bdb_14dda9820221row8_col5\" class=\"data row8 col5\" >23</td>\n",
       "                        <td id=\"T_c78685a6_7c68_11ea_9bdb_14dda9820221row8_col6\" class=\"data row8 col6\" >22</td>\n",
       "            </tr>\n",
       "            <tr>\n",
       "                        <th id=\"T_c78685a6_7c68_11ea_9bdb_14dda9820221level0_row9\" class=\"row_heading level0 row9\" >9</th>\n",
       "                        <td id=\"T_c78685a6_7c68_11ea_9bdb_14dda9820221row9_col0\" class=\"data row9 col0\" >Maharashtra</td>\n",
       "                        <td id=\"T_c78685a6_7c68_11ea_9bdb_14dda9820221row9_col1\" class=\"data row9 col1\" >144</td>\n",
       "                        <td id=\"T_c78685a6_7c68_11ea_9bdb_14dda9820221row9_col2\" class=\"data row9 col2\" >3</td>\n",
       "                        <td id=\"T_c78685a6_7c68_11ea_9bdb_14dda9820221row9_col3\" class=\"data row9 col3\" >15</td>\n",
       "                        <td id=\"T_c78685a6_7c68_11ea_9bdb_14dda9820221row9_col4\" class=\"data row9 col4\" >4</td>\n",
       "                        <td id=\"T_c78685a6_7c68_11ea_9bdb_14dda9820221row9_col5\" class=\"data row9 col5\" >147</td>\n",
       "                        <td id=\"T_c78685a6_7c68_11ea_9bdb_14dda9820221row9_col6\" class=\"data row9 col6\" >128</td>\n",
       "            </tr>\n",
       "            <tr>\n",
       "                        <th id=\"T_c78685a6_7c68_11ea_9bdb_14dda9820221level0_row10\" class=\"row_heading level0 row10\" >10</th>\n",
       "                        <td id=\"T_c78685a6_7c68_11ea_9bdb_14dda9820221row10_col0\" class=\"data row10 col0\" >Odisha</td>\n",
       "                        <td id=\"T_c78685a6_7c68_11ea_9bdb_14dda9820221row10_col1\" class=\"data row10 col1\" >3</td>\n",
       "                        <td id=\"T_c78685a6_7c68_11ea_9bdb_14dda9820221row10_col2\" class=\"data row10 col2\" >0</td>\n",
       "                        <td id=\"T_c78685a6_7c68_11ea_9bdb_14dda9820221row10_col3\" class=\"data row10 col3\" >0</td>\n",
       "                        <td id=\"T_c78685a6_7c68_11ea_9bdb_14dda9820221row10_col4\" class=\"data row10 col4\" >0</td>\n",
       "                        <td id=\"T_c78685a6_7c68_11ea_9bdb_14dda9820221row10_col5\" class=\"data row10 col5\" >3</td>\n",
       "                        <td id=\"T_c78685a6_7c68_11ea_9bdb_14dda9820221row10_col6\" class=\"data row10 col6\" >3</td>\n",
       "            </tr>\n",
       "            <tr>\n",
       "                        <th id=\"T_c78685a6_7c68_11ea_9bdb_14dda9820221level0_row11\" class=\"row_heading level0 row11\" >11</th>\n",
       "                        <td id=\"T_c78685a6_7c68_11ea_9bdb_14dda9820221row11_col0\" class=\"data row11 col0\" >Puducherry</td>\n",
       "                        <td id=\"T_c78685a6_7c68_11ea_9bdb_14dda9820221row11_col1\" class=\"data row11 col1\" >1</td>\n",
       "                        <td id=\"T_c78685a6_7c68_11ea_9bdb_14dda9820221row11_col2\" class=\"data row11 col2\" >0</td>\n",
       "                        <td id=\"T_c78685a6_7c68_11ea_9bdb_14dda9820221row11_col3\" class=\"data row11 col3\" >0</td>\n",
       "                        <td id=\"T_c78685a6_7c68_11ea_9bdb_14dda9820221row11_col4\" class=\"data row11 col4\" >0</td>\n",
       "                        <td id=\"T_c78685a6_7c68_11ea_9bdb_14dda9820221row11_col5\" class=\"data row11 col5\" >1</td>\n",
       "                        <td id=\"T_c78685a6_7c68_11ea_9bdb_14dda9820221row11_col6\" class=\"data row11 col6\" >1</td>\n",
       "            </tr>\n",
       "            <tr>\n",
       "                        <th id=\"T_c78685a6_7c68_11ea_9bdb_14dda9820221level0_row12\" class=\"row_heading level0 row12\" >12</th>\n",
       "                        <td id=\"T_c78685a6_7c68_11ea_9bdb_14dda9820221row12_col0\" class=\"data row12 col0\" >Punjab</td>\n",
       "                        <td id=\"T_c78685a6_7c68_11ea_9bdb_14dda9820221row12_col1\" class=\"data row12 col1\" >29</td>\n",
       "                        <td id=\"T_c78685a6_7c68_11ea_9bdb_14dda9820221row12_col2\" class=\"data row12 col2\" >0</td>\n",
       "                        <td id=\"T_c78685a6_7c68_11ea_9bdb_14dda9820221row12_col3\" class=\"data row12 col3\" >0</td>\n",
       "                        <td id=\"T_c78685a6_7c68_11ea_9bdb_14dda9820221row12_col4\" class=\"data row12 col4\" >1</td>\n",
       "                        <td id=\"T_c78685a6_7c68_11ea_9bdb_14dda9820221row12_col5\" class=\"data row12 col5\" >29</td>\n",
       "                        <td id=\"T_c78685a6_7c68_11ea_9bdb_14dda9820221row12_col6\" class=\"data row12 col6\" >28</td>\n",
       "            </tr>\n",
       "            <tr>\n",
       "                        <th id=\"T_c78685a6_7c68_11ea_9bdb_14dda9820221level0_row13\" class=\"row_heading level0 row13\" >13</th>\n",
       "                        <td id=\"T_c78685a6_7c68_11ea_9bdb_14dda9820221row13_col0\" class=\"data row13 col0\" >Rajasthan</td>\n",
       "                        <td id=\"T_c78685a6_7c68_11ea_9bdb_14dda9820221row13_col1\" class=\"data row13 col1\" >41</td>\n",
       "                        <td id=\"T_c78685a6_7c68_11ea_9bdb_14dda9820221row13_col2\" class=\"data row13 col2\" >2</td>\n",
       "                        <td id=\"T_c78685a6_7c68_11ea_9bdb_14dda9820221row13_col3\" class=\"data row13 col3\" >3</td>\n",
       "                        <td id=\"T_c78685a6_7c68_11ea_9bdb_14dda9820221row13_col4\" class=\"data row13 col4\" >0</td>\n",
       "                        <td id=\"T_c78685a6_7c68_11ea_9bdb_14dda9820221row13_col5\" class=\"data row13 col5\" >43</td>\n",
       "                        <td id=\"T_c78685a6_7c68_11ea_9bdb_14dda9820221row13_col6\" class=\"data row13 col6\" >40</td>\n",
       "            </tr>\n",
       "            <tr>\n",
       "                        <th id=\"T_c78685a6_7c68_11ea_9bdb_14dda9820221level0_row14\" class=\"row_heading level0 row14\" >14</th>\n",
       "                        <td id=\"T_c78685a6_7c68_11ea_9bdb_14dda9820221row14_col0\" class=\"data row14 col0\" >Tamil Nadu</td>\n",
       "                        <td id=\"T_c78685a6_7c68_11ea_9bdb_14dda9820221row14_col1\" class=\"data row14 col1\" >32</td>\n",
       "                        <td id=\"T_c78685a6_7c68_11ea_9bdb_14dda9820221row14_col2\" class=\"data row14 col2\" >3</td>\n",
       "                        <td id=\"T_c78685a6_7c68_11ea_9bdb_14dda9820221row14_col3\" class=\"data row14 col3\" >1</td>\n",
       "                        <td id=\"T_c78685a6_7c68_11ea_9bdb_14dda9820221row14_col4\" class=\"data row14 col4\" >1</td>\n",
       "                        <td id=\"T_c78685a6_7c68_11ea_9bdb_14dda9820221row14_col5\" class=\"data row14 col5\" >35</td>\n",
       "                        <td id=\"T_c78685a6_7c68_11ea_9bdb_14dda9820221row14_col6\" class=\"data row14 col6\" >33</td>\n",
       "            </tr>\n",
       "            <tr>\n",
       "                        <th id=\"T_c78685a6_7c68_11ea_9bdb_14dda9820221level0_row15\" class=\"row_heading level0 row15\" >15</th>\n",
       "                        <td id=\"T_c78685a6_7c68_11ea_9bdb_14dda9820221row15_col0\" class=\"data row15 col0\" >Telengana</td>\n",
       "                        <td id=\"T_c78685a6_7c68_11ea_9bdb_14dda9820221row15_col1\" class=\"data row15 col1\" >34</td>\n",
       "                        <td id=\"T_c78685a6_7c68_11ea_9bdb_14dda9820221row15_col2\" class=\"data row15 col2\" >11</td>\n",
       "                        <td id=\"T_c78685a6_7c68_11ea_9bdb_14dda9820221row15_col3\" class=\"data row15 col3\" >1</td>\n",
       "                        <td id=\"T_c78685a6_7c68_11ea_9bdb_14dda9820221row15_col4\" class=\"data row15 col4\" >0</td>\n",
       "                        <td id=\"T_c78685a6_7c68_11ea_9bdb_14dda9820221row15_col5\" class=\"data row15 col5\" >45</td>\n",
       "                        <td id=\"T_c78685a6_7c68_11ea_9bdb_14dda9820221row15_col6\" class=\"data row15 col6\" >44</td>\n",
       "            </tr>\n",
       "            <tr>\n",
       "                        <th id=\"T_c78685a6_7c68_11ea_9bdb_14dda9820221level0_row16\" class=\"row_heading level0 row16\" >16</th>\n",
       "                        <td id=\"T_c78685a6_7c68_11ea_9bdb_14dda9820221row16_col0\" class=\"data row16 col0\" >Chandigarh</td>\n",
       "                        <td id=\"T_c78685a6_7c68_11ea_9bdb_14dda9820221row16_col1\" class=\"data row16 col1\" >7</td>\n",
       "                        <td id=\"T_c78685a6_7c68_11ea_9bdb_14dda9820221row16_col2\" class=\"data row16 col2\" >0</td>\n",
       "                        <td id=\"T_c78685a6_7c68_11ea_9bdb_14dda9820221row16_col3\" class=\"data row16 col3\" >0</td>\n",
       "                        <td id=\"T_c78685a6_7c68_11ea_9bdb_14dda9820221row16_col4\" class=\"data row16 col4\" >0</td>\n",
       "                        <td id=\"T_c78685a6_7c68_11ea_9bdb_14dda9820221row16_col5\" class=\"data row16 col5\" >7</td>\n",
       "                        <td id=\"T_c78685a6_7c68_11ea_9bdb_14dda9820221row16_col6\" class=\"data row16 col6\" >7</td>\n",
       "            </tr>\n",
       "            <tr>\n",
       "                        <th id=\"T_c78685a6_7c68_11ea_9bdb_14dda9820221level0_row17\" class=\"row_heading level0 row17\" >17</th>\n",
       "                        <td id=\"T_c78685a6_7c68_11ea_9bdb_14dda9820221row17_col0\" class=\"data row17 col0\" >Jammu and Kashmir</td>\n",
       "                        <td id=\"T_c78685a6_7c68_11ea_9bdb_14dda9820221row17_col1\" class=\"data row17 col1\" >18</td>\n",
       "                        <td id=\"T_c78685a6_7c68_11ea_9bdb_14dda9820221row17_col2\" class=\"data row17 col2\" >0</td>\n",
       "                        <td id=\"T_c78685a6_7c68_11ea_9bdb_14dda9820221row17_col3\" class=\"data row17 col3\" >1</td>\n",
       "                        <td id=\"T_c78685a6_7c68_11ea_9bdb_14dda9820221row17_col4\" class=\"data row17 col4\" >1</td>\n",
       "                        <td id=\"T_c78685a6_7c68_11ea_9bdb_14dda9820221row17_col5\" class=\"data row17 col5\" >18</td>\n",
       "                        <td id=\"T_c78685a6_7c68_11ea_9bdb_14dda9820221row17_col6\" class=\"data row17 col6\" >16</td>\n",
       "            </tr>\n",
       "            <tr>\n",
       "                        <th id=\"T_c78685a6_7c68_11ea_9bdb_14dda9820221level0_row18\" class=\"row_heading level0 row18\" >18</th>\n",
       "                        <td id=\"T_c78685a6_7c68_11ea_9bdb_14dda9820221row18_col0\" class=\"data row18 col0\" >Ladakh</td>\n",
       "                        <td id=\"T_c78685a6_7c68_11ea_9bdb_14dda9820221row18_col1\" class=\"data row18 col1\" >13</td>\n",
       "                        <td id=\"T_c78685a6_7c68_11ea_9bdb_14dda9820221row18_col2\" class=\"data row18 col2\" >0</td>\n",
       "                        <td id=\"T_c78685a6_7c68_11ea_9bdb_14dda9820221row18_col3\" class=\"data row18 col3\" >0</td>\n",
       "                        <td id=\"T_c78685a6_7c68_11ea_9bdb_14dda9820221row18_col4\" class=\"data row18 col4\" >0</td>\n",
       "                        <td id=\"T_c78685a6_7c68_11ea_9bdb_14dda9820221row18_col5\" class=\"data row18 col5\" >13</td>\n",
       "                        <td id=\"T_c78685a6_7c68_11ea_9bdb_14dda9820221row18_col6\" class=\"data row18 col6\" >13</td>\n",
       "            </tr>\n",
       "            <tr>\n",
       "                        <th id=\"T_c78685a6_7c68_11ea_9bdb_14dda9820221level0_row19\" class=\"row_heading level0 row19\" >19</th>\n",
       "                        <td id=\"T_c78685a6_7c68_11ea_9bdb_14dda9820221row19_col0\" class=\"data row19 col0\" >Uttar Pradesh</td>\n",
       "                        <td id=\"T_c78685a6_7c68_11ea_9bdb_14dda9820221row19_col1\" class=\"data row19 col1\" >42</td>\n",
       "                        <td id=\"T_c78685a6_7c68_11ea_9bdb_14dda9820221row19_col2\" class=\"data row19 col2\" >1</td>\n",
       "                        <td id=\"T_c78685a6_7c68_11ea_9bdb_14dda9820221row19_col3\" class=\"data row19 col3\" >11</td>\n",
       "                        <td id=\"T_c78685a6_7c68_11ea_9bdb_14dda9820221row19_col4\" class=\"data row19 col4\" >0</td>\n",
       "                        <td id=\"T_c78685a6_7c68_11ea_9bdb_14dda9820221row19_col5\" class=\"data row19 col5\" >43</td>\n",
       "                        <td id=\"T_c78685a6_7c68_11ea_9bdb_14dda9820221row19_col6\" class=\"data row19 col6\" >32</td>\n",
       "            </tr>\n",
       "            <tr>\n",
       "                        <th id=\"T_c78685a6_7c68_11ea_9bdb_14dda9820221level0_row20\" class=\"row_heading level0 row20\" >20</th>\n",
       "                        <td id=\"T_c78685a6_7c68_11ea_9bdb_14dda9820221row20_col0\" class=\"data row20 col0\" >Uttarakhand</td>\n",
       "                        <td id=\"T_c78685a6_7c68_11ea_9bdb_14dda9820221row20_col1\" class=\"data row20 col1\" >4</td>\n",
       "                        <td id=\"T_c78685a6_7c68_11ea_9bdb_14dda9820221row20_col2\" class=\"data row20 col2\" >0</td>\n",
       "                        <td id=\"T_c78685a6_7c68_11ea_9bdb_14dda9820221row20_col3\" class=\"data row20 col3\" >0</td>\n",
       "                        <td id=\"T_c78685a6_7c68_11ea_9bdb_14dda9820221row20_col4\" class=\"data row20 col4\" >0</td>\n",
       "                        <td id=\"T_c78685a6_7c68_11ea_9bdb_14dda9820221row20_col5\" class=\"data row20 col5\" >4</td>\n",
       "                        <td id=\"T_c78685a6_7c68_11ea_9bdb_14dda9820221row20_col6\" class=\"data row20 col6\" >4</td>\n",
       "            </tr>\n",
       "            <tr>\n",
       "                        <th id=\"T_c78685a6_7c68_11ea_9bdb_14dda9820221level0_row21\" class=\"row_heading level0 row21\" >21</th>\n",
       "                        <td id=\"T_c78685a6_7c68_11ea_9bdb_14dda9820221row21_col0\" class=\"data row21 col0\" >West Bengal</td>\n",
       "                        <td id=\"T_c78685a6_7c68_11ea_9bdb_14dda9820221row21_col1\" class=\"data row21 col1\" >11</td>\n",
       "                        <td id=\"T_c78685a6_7c68_11ea_9bdb_14dda9820221row21_col2\" class=\"data row21 col2\" >0</td>\n",
       "                        <td id=\"T_c78685a6_7c68_11ea_9bdb_14dda9820221row21_col3\" class=\"data row21 col3\" >0</td>\n",
       "                        <td id=\"T_c78685a6_7c68_11ea_9bdb_14dda9820221row21_col4\" class=\"data row21 col4\" >1</td>\n",
       "                        <td id=\"T_c78685a6_7c68_11ea_9bdb_14dda9820221row21_col5\" class=\"data row21 col5\" >11</td>\n",
       "                        <td id=\"T_c78685a6_7c68_11ea_9bdb_14dda9820221row21_col6\" class=\"data row21 col6\" >10</td>\n",
       "            </tr>\n",
       "            <tr>\n",
       "                        <th id=\"T_c78685a6_7c68_11ea_9bdb_14dda9820221level0_row22\" class=\"row_heading level0 row22\" >22</th>\n",
       "                        <td id=\"T_c78685a6_7c68_11ea_9bdb_14dda9820221row22_col0\" class=\"data row22 col0\" >Bihar</td>\n",
       "                        <td id=\"T_c78685a6_7c68_11ea_9bdb_14dda9820221row22_col1\" class=\"data row22 col1\" >7</td>\n",
       "                        <td id=\"T_c78685a6_7c68_11ea_9bdb_14dda9820221row22_col2\" class=\"data row22 col2\" >0</td>\n",
       "                        <td id=\"T_c78685a6_7c68_11ea_9bdb_14dda9820221row22_col3\" class=\"data row22 col3\" >0</td>\n",
       "                        <td id=\"T_c78685a6_7c68_11ea_9bdb_14dda9820221row22_col4\" class=\"data row22 col4\" >1</td>\n",
       "                        <td id=\"T_c78685a6_7c68_11ea_9bdb_14dda9820221row22_col5\" class=\"data row22 col5\" >7</td>\n",
       "                        <td id=\"T_c78685a6_7c68_11ea_9bdb_14dda9820221row22_col6\" class=\"data row22 col6\" >6</td>\n",
       "            </tr>\n",
       "            <tr>\n",
       "                        <th id=\"T_c78685a6_7c68_11ea_9bdb_14dda9820221level0_row23\" class=\"row_heading level0 row23\" >23</th>\n",
       "                        <td id=\"T_c78685a6_7c68_11ea_9bdb_14dda9820221row23_col0\" class=\"data row23 col0\" >Mizoram</td>\n",
       "                        <td id=\"T_c78685a6_7c68_11ea_9bdb_14dda9820221row23_col1\" class=\"data row23 col1\" >1</td>\n",
       "                        <td id=\"T_c78685a6_7c68_11ea_9bdb_14dda9820221row23_col2\" class=\"data row23 col2\" >0</td>\n",
       "                        <td id=\"T_c78685a6_7c68_11ea_9bdb_14dda9820221row23_col3\" class=\"data row23 col3\" >0</td>\n",
       "                        <td id=\"T_c78685a6_7c68_11ea_9bdb_14dda9820221row23_col4\" class=\"data row23 col4\" >0</td>\n",
       "                        <td id=\"T_c78685a6_7c68_11ea_9bdb_14dda9820221row23_col5\" class=\"data row23 col5\" >1</td>\n",
       "                        <td id=\"T_c78685a6_7c68_11ea_9bdb_14dda9820221row23_col6\" class=\"data row23 col6\" >1</td>\n",
       "            </tr>\n",
       "            <tr>\n",
       "                        <th id=\"T_c78685a6_7c68_11ea_9bdb_14dda9820221level0_row24\" class=\"row_heading level0 row24\" >24</th>\n",
       "                        <td id=\"T_c78685a6_7c68_11ea_9bdb_14dda9820221row24_col0\" class=\"data row24 col0\" >Goa</td>\n",
       "                        <td id=\"T_c78685a6_7c68_11ea_9bdb_14dda9820221row24_col1\" class=\"data row24 col1\" >6</td>\n",
       "                        <td id=\"T_c78685a6_7c68_11ea_9bdb_14dda9820221row24_col2\" class=\"data row24 col2\" >0</td>\n",
       "                        <td id=\"T_c78685a6_7c68_11ea_9bdb_14dda9820221row24_col3\" class=\"data row24 col3\" >0</td>\n",
       "                        <td id=\"T_c78685a6_7c68_11ea_9bdb_14dda9820221row24_col4\" class=\"data row24 col4\" >0</td>\n",
       "                        <td id=\"T_c78685a6_7c68_11ea_9bdb_14dda9820221row24_col5\" class=\"data row24 col5\" >6</td>\n",
       "                        <td id=\"T_c78685a6_7c68_11ea_9bdb_14dda9820221row24_col6\" class=\"data row24 col6\" >6</td>\n",
       "            </tr>\n",
       "            <tr>\n",
       "                        <th id=\"T_c78685a6_7c68_11ea_9bdb_14dda9820221level0_row25\" class=\"row_heading level0 row25\" >25</th>\n",
       "                        <td id=\"T_c78685a6_7c68_11ea_9bdb_14dda9820221row25_col0\" class=\"data row25 col0\" >Manipur</td>\n",
       "                        <td id=\"T_c78685a6_7c68_11ea_9bdb_14dda9820221row25_col1\" class=\"data row25 col1\" >1</td>\n",
       "                        <td id=\"T_c78685a6_7c68_11ea_9bdb_14dda9820221row25_col2\" class=\"data row25 col2\" >0</td>\n",
       "                        <td id=\"T_c78685a6_7c68_11ea_9bdb_14dda9820221row25_col3\" class=\"data row25 col3\" >0</td>\n",
       "                        <td id=\"T_c78685a6_7c68_11ea_9bdb_14dda9820221row25_col4\" class=\"data row25 col4\" >0</td>\n",
       "                        <td id=\"T_c78685a6_7c68_11ea_9bdb_14dda9820221row25_col5\" class=\"data row25 col5\" >1</td>\n",
       "                        <td id=\"T_c78685a6_7c68_11ea_9bdb_14dda9820221row25_col6\" class=\"data row25 col6\" >1</td>\n",
       "            </tr>\n",
       "    </tbody></table>"
      ],
      "text/plain": [
       "<pandas.io.formats.style.Styler at 0x7f9442d3b2b0>"
      ]
     },
     "execution_count": 56,
     "metadata": {},
     "output_type": "execute_result"
    }
   ],
   "source": [
    "df.style.background_gradient(cmap='Reds')"
   ]
  },
  {
   "cell_type": "code",
   "execution_count": 43,
   "metadata": {},
   "outputs": [],
   "source": [
    "totalActiveCases = df.groupby('Name of State / UT')['Active Cases'].sum().sort_values(ascending = False).to_frame()\n",
    "# Agrupa duas colunas selecionadas somando as, classifica os valores e 'to_frame()' melhora visualmente "
   ]
  },
  {
   "cell_type": "code",
   "execution_count": 57,
   "metadata": {
    "collapsed": true
   },
   "outputs": [
    {
     "data": {
      "text/html": [
       "<style  type=\"text/css\" >\n",
       "    #T_cdbde478_7c68_11ea_9bdb_14dda9820221row0_col0 {\n",
       "            background-color:  #67000d;\n",
       "            color:  #f1f1f1;\n",
       "        }    #T_cdbde478_7c68_11ea_9bdb_14dda9820221row1_col0 {\n",
       "            background-color:  #6b010e;\n",
       "            color:  #f1f1f1;\n",
       "        }    #T_cdbde478_7c68_11ea_9bdb_14dda9820221row2_col0 {\n",
       "            background-color:  #fc9e80;\n",
       "            color:  #000000;\n",
       "        }    #T_cdbde478_7c68_11ea_9bdb_14dda9820221row3_col0 {\n",
       "            background-color:  #fca98c;\n",
       "            color:  #000000;\n",
       "        }    #T_cdbde478_7c68_11ea_9bdb_14dda9820221row4_col0 {\n",
       "            background-color:  #fca98c;\n",
       "            color:  #000000;\n",
       "        }    #T_cdbde478_7c68_11ea_9bdb_14dda9820221row5_col0 {\n",
       "            background-color:  #fcbba1;\n",
       "            color:  #000000;\n",
       "        }    #T_cdbde478_7c68_11ea_9bdb_14dda9820221row6_col0 {\n",
       "            background-color:  #fcbda4;\n",
       "            color:  #000000;\n",
       "        }    #T_cdbde478_7c68_11ea_9bdb_14dda9820221row7_col0 {\n",
       "            background-color:  #fcbda4;\n",
       "            color:  #000000;\n",
       "        }    #T_cdbde478_7c68_11ea_9bdb_14dda9820221row8_col0 {\n",
       "            background-color:  #fdc6b0;\n",
       "            color:  #000000;\n",
       "        }    #T_cdbde478_7c68_11ea_9bdb_14dda9820221row9_col0 {\n",
       "            background-color:  #fdd4c2;\n",
       "            color:  #000000;\n",
       "        }    #T_cdbde478_7c68_11ea_9bdb_14dda9820221row10_col0 {\n",
       "            background-color:  #fedbcc;\n",
       "            color:  #000000;\n",
       "        }    #T_cdbde478_7c68_11ea_9bdb_14dda9820221row11_col0 {\n",
       "            background-color:  #fee1d4;\n",
       "            color:  #000000;\n",
       "        }    #T_cdbde478_7c68_11ea_9bdb_14dda9820221row12_col0 {\n",
       "            background-color:  #fee3d6;\n",
       "            color:  #000000;\n",
       "        }    #T_cdbde478_7c68_11ea_9bdb_14dda9820221row13_col0 {\n",
       "            background-color:  #fee5d9;\n",
       "            color:  #000000;\n",
       "        }    #T_cdbde478_7c68_11ea_9bdb_14dda9820221row14_col0 {\n",
       "            background-color:  #fee8dd;\n",
       "            color:  #000000;\n",
       "        }    #T_cdbde478_7c68_11ea_9bdb_14dda9820221row15_col0 {\n",
       "            background-color:  #fee9df;\n",
       "            color:  #000000;\n",
       "        }    #T_cdbde478_7c68_11ea_9bdb_14dda9820221row16_col0 {\n",
       "            background-color:  #ffede5;\n",
       "            color:  #000000;\n",
       "        }    #T_cdbde478_7c68_11ea_9bdb_14dda9820221row17_col0 {\n",
       "            background-color:  #ffeee7;\n",
       "            color:  #000000;\n",
       "        }    #T_cdbde478_7c68_11ea_9bdb_14dda9820221row18_col0 {\n",
       "            background-color:  #ffeee7;\n",
       "            color:  #000000;\n",
       "        }    #T_cdbde478_7c68_11ea_9bdb_14dda9820221row19_col0 {\n",
       "            background-color:  #ffeee7;\n",
       "            color:  #000000;\n",
       "        }    #T_cdbde478_7c68_11ea_9bdb_14dda9820221row20_col0 {\n",
       "            background-color:  #fff1ea;\n",
       "            color:  #000000;\n",
       "        }    #T_cdbde478_7c68_11ea_9bdb_14dda9820221row21_col0 {\n",
       "            background-color:  #fff2ec;\n",
       "            color:  #000000;\n",
       "        }    #T_cdbde478_7c68_11ea_9bdb_14dda9820221row22_col0 {\n",
       "            background-color:  #fff2ec;\n",
       "            color:  #000000;\n",
       "        }    #T_cdbde478_7c68_11ea_9bdb_14dda9820221row23_col0 {\n",
       "            background-color:  #fff5f0;\n",
       "            color:  #000000;\n",
       "        }    #T_cdbde478_7c68_11ea_9bdb_14dda9820221row24_col0 {\n",
       "            background-color:  #fff5f0;\n",
       "            color:  #000000;\n",
       "        }    #T_cdbde478_7c68_11ea_9bdb_14dda9820221row25_col0 {\n",
       "            background-color:  #fff5f0;\n",
       "            color:  #000000;\n",
       "        }</style><table id=\"T_cdbde478_7c68_11ea_9bdb_14dda9820221\" ><thead>    <tr>        <th class=\"blank level0\" ></th>        <th class=\"col_heading level0 col0\" >Active Cases</th>    </tr>    <tr>        <th class=\"index_name level0\" >Name of State / UT</th>        <th class=\"blank\" ></th>    </tr></thead><tbody>\n",
       "                <tr>\n",
       "                        <th id=\"T_cdbde478_7c68_11ea_9bdb_14dda9820221level0_row0\" class=\"row_heading level0 row0\" >Maharashtra</th>\n",
       "                        <td id=\"T_cdbde478_7c68_11ea_9bdb_14dda9820221row0_col0\" class=\"data row0 col0\" >128</td>\n",
       "            </tr>\n",
       "            <tr>\n",
       "                        <th id=\"T_cdbde478_7c68_11ea_9bdb_14dda9820221level0_row1\" class=\"row_heading level0 row1\" >Kerala</th>\n",
       "                        <td id=\"T_cdbde478_7c68_11ea_9bdb_14dda9820221row1_col0\" class=\"data row1 col0\" >127</td>\n",
       "            </tr>\n",
       "            <tr>\n",
       "                        <th id=\"T_cdbde478_7c68_11ea_9bdb_14dda9820221level0_row2\" class=\"row_heading level0 row2\" >Telengana</th>\n",
       "                        <td id=\"T_cdbde478_7c68_11ea_9bdb_14dda9820221row2_col0\" class=\"data row2 col0\" >44</td>\n",
       "            </tr>\n",
       "            <tr>\n",
       "                        <th id=\"T_cdbde478_7c68_11ea_9bdb_14dda9820221level0_row3\" class=\"row_heading level0 row3\" >Rajasthan</th>\n",
       "                        <td id=\"T_cdbde478_7c68_11ea_9bdb_14dda9820221row3_col0\" class=\"data row3 col0\" >40</td>\n",
       "            </tr>\n",
       "            <tr>\n",
       "                        <th id=\"T_cdbde478_7c68_11ea_9bdb_14dda9820221level0_row4\" class=\"row_heading level0 row4\" >Gujarat</th>\n",
       "                        <td id=\"T_cdbde478_7c68_11ea_9bdb_14dda9820221row4_col0\" class=\"data row4 col0\" >40</td>\n",
       "            </tr>\n",
       "            <tr>\n",
       "                        <th id=\"T_cdbde478_7c68_11ea_9bdb_14dda9820221level0_row5\" class=\"row_heading level0 row5\" >Tamil Nadu</th>\n",
       "                        <td id=\"T_cdbde478_7c68_11ea_9bdb_14dda9820221row5_col0\" class=\"data row5 col0\" >33</td>\n",
       "            </tr>\n",
       "            <tr>\n",
       "                        <th id=\"T_cdbde478_7c68_11ea_9bdb_14dda9820221level0_row6\" class=\"row_heading level0 row6\" >Uttar Pradesh</th>\n",
       "                        <td id=\"T_cdbde478_7c68_11ea_9bdb_14dda9820221row6_col0\" class=\"data row6 col0\" >32</td>\n",
       "            </tr>\n",
       "            <tr>\n",
       "                        <th id=\"T_cdbde478_7c68_11ea_9bdb_14dda9820221level0_row7\" class=\"row_heading level0 row7\" >Delhi</th>\n",
       "                        <td id=\"T_cdbde478_7c68_11ea_9bdb_14dda9820221row7_col0\" class=\"data row7 col0\" >32</td>\n",
       "            </tr>\n",
       "            <tr>\n",
       "                        <th id=\"T_cdbde478_7c68_11ea_9bdb_14dda9820221level0_row8\" class=\"row_heading level0 row8\" >Punjab</th>\n",
       "                        <td id=\"T_cdbde478_7c68_11ea_9bdb_14dda9820221row8_col0\" class=\"data row8 col0\" >28</td>\n",
       "            </tr>\n",
       "            <tr>\n",
       "                        <th id=\"T_cdbde478_7c68_11ea_9bdb_14dda9820221level0_row9\" class=\"row_heading level0 row9\" >Madhya Pradesh</th>\n",
       "                        <td id=\"T_cdbde478_7c68_11ea_9bdb_14dda9820221row9_col0\" class=\"data row9 col0\" >22</td>\n",
       "            </tr>\n",
       "            <tr>\n",
       "                        <th id=\"T_cdbde478_7c68_11ea_9bdb_14dda9820221level0_row10\" class=\"row_heading level0 row10\" >Haryana</th>\n",
       "                        <td id=\"T_cdbde478_7c68_11ea_9bdb_14dda9820221row10_col0\" class=\"data row10 col0\" >19</td>\n",
       "            </tr>\n",
       "            <tr>\n",
       "                        <th id=\"T_cdbde478_7c68_11ea_9bdb_14dda9820221level0_row11\" class=\"row_heading level0 row11\" >Jammu and Kashmir</th>\n",
       "                        <td id=\"T_cdbde478_7c68_11ea_9bdb_14dda9820221row11_col0\" class=\"data row11 col0\" >16</td>\n",
       "            </tr>\n",
       "            <tr>\n",
       "                        <th id=\"T_cdbde478_7c68_11ea_9bdb_14dda9820221level0_row12\" class=\"row_heading level0 row12\" >Karnataka</th>\n",
       "                        <td id=\"T_cdbde478_7c68_11ea_9bdb_14dda9820221row12_col0\" class=\"data row12 col0\" >15</td>\n",
       "            </tr>\n",
       "            <tr>\n",
       "                        <th id=\"T_cdbde478_7c68_11ea_9bdb_14dda9820221level0_row13\" class=\"row_heading level0 row13\" >Ladakh</th>\n",
       "                        <td id=\"T_cdbde478_7c68_11ea_9bdb_14dda9820221row13_col0\" class=\"data row13 col0\" >13</td>\n",
       "            </tr>\n",
       "            <tr>\n",
       "                        <th id=\"T_cdbde478_7c68_11ea_9bdb_14dda9820221level0_row14\" class=\"row_heading level0 row14\" >Andhra Pradesh</th>\n",
       "                        <td id=\"T_cdbde478_7c68_11ea_9bdb_14dda9820221row14_col0\" class=\"data row14 col0\" >11</td>\n",
       "            </tr>\n",
       "            <tr>\n",
       "                        <th id=\"T_cdbde478_7c68_11ea_9bdb_14dda9820221level0_row15\" class=\"row_heading level0 row15\" >West Bengal</th>\n",
       "                        <td id=\"T_cdbde478_7c68_11ea_9bdb_14dda9820221row15_col0\" class=\"data row15 col0\" >10</td>\n",
       "            </tr>\n",
       "            <tr>\n",
       "                        <th id=\"T_cdbde478_7c68_11ea_9bdb_14dda9820221level0_row16\" class=\"row_heading level0 row16\" >Chandigarh</th>\n",
       "                        <td id=\"T_cdbde478_7c68_11ea_9bdb_14dda9820221row16_col0\" class=\"data row16 col0\" >7</td>\n",
       "            </tr>\n",
       "            <tr>\n",
       "                        <th id=\"T_cdbde478_7c68_11ea_9bdb_14dda9820221level0_row17\" class=\"row_heading level0 row17\" >Goa</th>\n",
       "                        <td id=\"T_cdbde478_7c68_11ea_9bdb_14dda9820221row17_col0\" class=\"data row17 col0\" >6</td>\n",
       "            </tr>\n",
       "            <tr>\n",
       "                        <th id=\"T_cdbde478_7c68_11ea_9bdb_14dda9820221level0_row18\" class=\"row_heading level0 row18\" >Chhattisgarh</th>\n",
       "                        <td id=\"T_cdbde478_7c68_11ea_9bdb_14dda9820221row18_col0\" class=\"data row18 col0\" >6</td>\n",
       "            </tr>\n",
       "            <tr>\n",
       "                        <th id=\"T_cdbde478_7c68_11ea_9bdb_14dda9820221level0_row19\" class=\"row_heading level0 row19\" >Bihar</th>\n",
       "                        <td id=\"T_cdbde478_7c68_11ea_9bdb_14dda9820221row19_col0\" class=\"data row19 col0\" >6</td>\n",
       "            </tr>\n",
       "            <tr>\n",
       "                        <th id=\"T_cdbde478_7c68_11ea_9bdb_14dda9820221level0_row20\" class=\"row_heading level0 row20\" >Uttarakhand</th>\n",
       "                        <td id=\"T_cdbde478_7c68_11ea_9bdb_14dda9820221row20_col0\" class=\"data row20 col0\" >4</td>\n",
       "            </tr>\n",
       "            <tr>\n",
       "                        <th id=\"T_cdbde478_7c68_11ea_9bdb_14dda9820221level0_row21\" class=\"row_heading level0 row21\" >Himachal Pradesh</th>\n",
       "                        <td id=\"T_cdbde478_7c68_11ea_9bdb_14dda9820221row21_col0\" class=\"data row21 col0\" >3</td>\n",
       "            </tr>\n",
       "            <tr>\n",
       "                        <th id=\"T_cdbde478_7c68_11ea_9bdb_14dda9820221level0_row22\" class=\"row_heading level0 row22\" >Odisha</th>\n",
       "                        <td id=\"T_cdbde478_7c68_11ea_9bdb_14dda9820221row22_col0\" class=\"data row22 col0\" >3</td>\n",
       "            </tr>\n",
       "            <tr>\n",
       "                        <th id=\"T_cdbde478_7c68_11ea_9bdb_14dda9820221level0_row23\" class=\"row_heading level0 row23\" >Manipur</th>\n",
       "                        <td id=\"T_cdbde478_7c68_11ea_9bdb_14dda9820221row23_col0\" class=\"data row23 col0\" >1</td>\n",
       "            </tr>\n",
       "            <tr>\n",
       "                        <th id=\"T_cdbde478_7c68_11ea_9bdb_14dda9820221level0_row24\" class=\"row_heading level0 row24\" >Mizoram</th>\n",
       "                        <td id=\"T_cdbde478_7c68_11ea_9bdb_14dda9820221row24_col0\" class=\"data row24 col0\" >1</td>\n",
       "            </tr>\n",
       "            <tr>\n",
       "                        <th id=\"T_cdbde478_7c68_11ea_9bdb_14dda9820221level0_row25\" class=\"row_heading level0 row25\" >Puducherry</th>\n",
       "                        <td id=\"T_cdbde478_7c68_11ea_9bdb_14dda9820221row25_col0\" class=\"data row25 col0\" >1</td>\n",
       "            </tr>\n",
       "    </tbody></table>"
      ],
      "text/plain": [
       "<pandas.io.formats.style.Styler at 0x7f9442d8ce48>"
      ]
     },
     "execution_count": 57,
     "metadata": {},
     "output_type": "execute_result"
    }
   ],
   "source": [
    "totalActiveCases.style.background_gradient(cmap = 'Reds')"
   ]
  },
  {
   "cell_type": "code",
   "execution_count": 49,
   "metadata": {
    "collapsed": true
   },
   "outputs": [
    {
     "data": {
      "text/plain": [
       "<matplotlib.axes._subplots.AxesSubplot at 0x7f94434b6da0>"
      ]
     },
     "execution_count": 49,
     "metadata": {},
     "output_type": "execute_result"
    },
    {
     "data": {
      "image/png": "[encoded data removed]",
      "text/plain": [
       "<Figure size 432x288 with 1 Axes>"
      ]
     },
     "metadata": {
      "needs_background": "light"
     },
     "output_type": "display_data"
    }
   ],
   "source": [
    "# Representação Gráfica #"
   ]
  },
  {
   "cell_type": "code",
   "execution_count": 77,
   "metadata": {
    "collapsed": true
   },
   "outputs": [
    {
     "data": {
      "text/plain": [
       "<matplotlib.axes._subplots.AxesSubplot at 0x7f9441562320>"
      ]
     },
     "execution_count": 77,
     "metadata": {},
     "output_type": "execute_result"
    },
    {
     "data": {
      "image/png": "[encoded data removed]",
      "text/plain": [
       "<Figure size 1224x576 with 1 Axes>"
      ]
     },
     "metadata": {},
     "output_type": "display_data"
    }
   ],
   "source": [
    "# Visual Pandas\n",
    "df.plot(kind = 'bar', x = 'Name of State / UT', y = 'Total Cases')\n",
    "# plt.show()"
   ]
  },
  {
   "cell_type": "code",
   "execution_count": 78,
   "metadata": {
    "collapsed": true
   },
   "outputs": [
    {
     "data": {
      "application/vnd.plotly.v1+json": {
       "config": {
        "linkText": "Export to plot.ly",
        "plotlyServerURL": "https://plot.ly",
        "showLink": true
       },
       "data": [
        {
         "marker": {
          "color": "rgba(255, 153, 51, 0.6)",
          "line": {
           "color": "rgba(255, 153, 51, 1.0)",
           "width": 1
          }
         },
         "name": "Total Cases",
         "orientation": "v",
         "text": "",
         "type": "bar",
         "x": [
          "Andhra Pradesh",
          "Chhattisgarh",
          "Delhi",
          "Gujarat",
          "Haryana",
          "Himachal Pradesh",
          "Karnataka",
          "Kerala",
          "Madhya Pradesh",
          "Maharashtra",
          "Odisha",
          "Puducherry",
          "Punjab",
          "Rajasthan",
          "Tamil Nadu",
          "Telengana",
          "Chandigarh",
          "Jammu and Kashmir",
          "Ladakh",
          "Uttar Pradesh",
          "Uttarakhand",
          "West Bengal",
          "Bihar",
          "Mizoram",
          "Goa",
          "Manipur"
         ],
         "y": [
          12,
          6,
          39,
          43,
          30,
          4,
          20,
          138,
          23,
          147,
          3,
          1,
          29,
          43,
          35,
          45,
          7,
          18,
          13,
          43,
          4,
          11,
          7,
          1,
          6,
          1
         ]
        }
       ],
       "layout": {
        "legend": {
         "bgcolor": "#F5F6F9",
         "font": {
          "color": "#4D5663"
         }
        },
        "paper_bgcolor": "#F5F6F9",
        "plot_bgcolor": "#F5F6F9",
        "template": {
         "data": {
          "bar": [
           {
            "error_x": {
             "color": "#2a3f5f"
            },
            "error_y": {
             "color": "#2a3f5f"
            },
            "marker": {
             "line": {
              "color": "#E5ECF6",
              "width": 0.5
             }
            },
            "type": "bar"
           }
          ],
          "barpolar": [
           {
            "marker": {
             "line": {
              "color": "#E5ECF6",
              "width": 0.5
             }
            },
            "type": "barpolar"
           }
          ],
          "carpet": [
           {
            "aaxis": {
             "endlinecolor": "#2a3f5f",
             "gridcolor": "white",
             "linecolor": "white",
             "minorgridcolor": "white",
             "startlinecolor": "#2a3f5f"
            },
            "baxis": {
             "endlinecolor": "#2a3f5f",
             "gridcolor": "white",
             "linecolor": "white",
             "minorgridcolor": "white",
             "startlinecolor": "#2a3f5f"
            },
            "type": "carpet"
           }
          ],
          "choropleth": [
           {
            "colorbar": {
             "outlinewidth": 0,
             "ticks": ""
            },
            "type": "choropleth"
           }
          ],
          "contour": [
           {
            "colorbar": {
             "outlinewidth": 0,
             "ticks": ""
            },
            "colorscale": [
             [
              0,
              "#0d0887"
             ],
             [
              0.1111111111111111,
              "#46039f"
             ],
             [
              0.2222222222222222,
              "#7201a8"
             ],
             [
              0.3333333333333333,
              "#9c179e"
             ],
             [
              0.4444444444444444,
              "#bd3786"
             ],
             [
              0.5555555555555556,
              "#d8576b"
             ],
             [
              0.6666666666666666,
              "#ed7953"
             ],
             [
              0.7777777777777778,
              "#fb9f3a"
             ],
             [
              0.8888888888888888,
              "#fdca26"
             ],
             [
              1,
              "#f0f921"
             ]
            ],
            "type": "contour"
           }
          ],
          "contourcarpet": [
           {
            "colorbar": {
             "outlinewidth": 0,
             "ticks": ""
            },
            "type": "contourcarpet"
           }
          ],
          "heatmap": [
           {
            "colorbar": {
             "outlinewidth": 0,
             "ticks": ""
            },
            "colorscale": [
             [
              0,
              "#0d0887"
             ],
             [
              0.1111111111111111,
              "#46039f"
             ],
             [
              0.2222222222222222,
              "#7201a8"
             ],
             [
              0.3333333333333333,
              "#9c179e"
             ],
             [
              0.4444444444444444,
              "#bd3786"
             ],
             [
              0.5555555555555556,
              "#d8576b"
             ],
             [
              0.6666666666666666,
              "#ed7953"
             ],
             [
              0.7777777777777778,
              "#fb9f3a"
             ],
             [
              0.8888888888888888,
              "#fdca26"
             ],
             [
              1,
              "#f0f921"
             ]
            ],
            "type": "heatmap"
           }
          ],
          "heatmapgl": [
           {
            "colorbar": {
             "outlinewidth": 0,
             "ticks": ""
            },
            "colorscale": [
             [
              0,
              "#0d0887"
             ],
             [
              0.1111111111111111,
              "#46039f"
             ],
             [
              0.2222222222222222,
              "#7201a8"
             ],
             [
              0.3333333333333333,
              "#9c179e"
             ],
             [
              0.4444444444444444,
              "#bd3786"
             ],
             [
              0.5555555555555556,
              "#d8576b"
             ],
             [
              0.6666666666666666,
              "#ed7953"
             ],
             [
              0.7777777777777778,
              "#fb9f3a"
             ],
             [
              0.8888888888888888,
              "#fdca26"
             ],
             [
              1,
              "#f0f921"
             ]
            ],
            "type": "heatmapgl"
           }
          ],
          "histogram": [
           {
            "marker": {
             "colorbar": {
              "outlinewidth": 0,
              "ticks": ""
             }
            },
            "type": "histogram"
           }
          ],
          "histogram2d": [
           {
            "colorbar": {
             "outlinewidth": 0,
             "ticks": ""
            },
            "colorscale": [
             [
              0,
              "#0d0887"
             ],
             [
              0.1111111111111111,
              "#46039f"
             ],
             [
              0.2222222222222222,
              "#7201a8"
             ],
             [
              0.3333333333333333,
              "#9c179e"
             ],
             [
              0.4444444444444444,
              "#bd3786"
             ],
             [
              0.5555555555555556,
              "#d8576b"
             ],
             [
              0.6666666666666666,
              "#ed7953"
             ],
             [
              0.7777777777777778,
              "#fb9f3a"
             ],
             [
              0.8888888888888888,
              "#fdca26"
             ],
             [
              1,
              "#f0f921"
             ]
            ],
            "type": "histogram2d"
           }
          ],
          "histogram2dcontour": [
           {
            "colorbar": {
             "outlinewidth": 0,
             "ticks": ""
            },
            "colorscale": [
             [
              0,
              "#0d0887"
             ],
             [
              0.1111111111111111,
              "#46039f"
             ],
             [
              0.2222222222222222,
              "#7201a8"
             ],
             [
              0.3333333333333333,
              "#9c179e"
             ],
             [
              0.4444444444444444,
              "#bd3786"
             ],
             [
              0.5555555555555556,
              "#d8576b"
             ],
             [
              0.6666666666666666,
              "#ed7953"
             ],
             [
              0.7777777777777778,
              "#fb9f3a"
             ],
             [
              0.8888888888888888,
              "#fdca26"
             ],
             [
              1,
              "#f0f921"
             ]
            ],
            "type": "histogram2dcontour"
           }
          ],
          "mesh3d": [
           {
            "colorbar": {
             "outlinewidth": 0,
             "ticks": ""
            },
            "type": "mesh3d"
           }
          ],
          "parcoords": [
           {
            "line": {
             "colorbar": {
              "outlinewidth": 0,
              "ticks": ""
             }
            },
            "type": "parcoords"
           }
          ],
          "pie": [
           {
            "automargin": true,
            "type": "pie"
           }
          ],
          "scatter": [
           {
            "marker": {
             "colorbar": {
              "outlinewidth": 0,
              "ticks": ""
             }
            },
            "type": "scatter"
           }
          ],
          "scatter3d": [
           {
            "line": {
             "colorbar": {
              "outlinewidth": 0,
              "ticks": ""
             }
            },
            "marker": {
             "colorbar": {
              "outlinewidth": 0,
              "ticks": ""
             }
            },
            "type": "scatter3d"
           }
          ],
          "scattercarpet": [
           {
            "marker": {
             "colorbar": {
              "outlinewidth": 0,
              "ticks": ""
             }
            },
            "type": "scattercarpet"
           }
          ],
          "scattergeo": [
           {
            "marker": {
             "colorbar": {
              "outlinewidth": 0,
              "ticks": ""
             }
            },
            "type": "scattergeo"
           }
          ],
          "scattergl": [
           {
            "marker": {
             "colorbar": {
              "outlinewidth": 0,
              "ticks": ""
             }
            },
            "type": "scattergl"
           }
          ],
          "scattermapbox": [
           {
            "marker": {
             "colorbar": {
              "outlinewidth": 0,
              "ticks": ""
             }
            },
            "type": "scattermapbox"
           }
          ],
          "scatterpolar": [
           {
            "marker": {
             "colorbar": {
              "outlinewidth": 0,
              "ticks": ""
             }
            },
            "type": "scatterpolar"
           }
          ],
          "scatterpolargl": [
           {
            "marker": {
             "colorbar": {
              "outlinewidth": 0,
              "ticks": ""
             }
            },
            "type": "scatterpolargl"
           }
          ],
          "scatterternary": [
           {
            "marker": {
             "colorbar": {
              "outlinewidth": 0,
              "ticks": ""
             }
            },
            "type": "scatterternary"
           }
          ],
          "surface": [
           {
            "colorbar": {
             "outlinewidth": 0,
             "ticks": ""
            },
            "colorscale": [
             [
              0,
              "#0d0887"
             ],
             [
              0.1111111111111111,
              "#46039f"
             ],
             [
              0.2222222222222222,
              "#7201a8"
             ],
             [
              0.3333333333333333,
              "#9c179e"
             ],
             [
              0.4444444444444444,
              "#bd3786"
             ],
             [
              0.5555555555555556,
              "#d8576b"
             ],
             [
              0.6666666666666666,
              "#ed7953"
             ],
             [
              0.7777777777777778,
              "#fb9f3a"
             ],
             [
              0.8888888888888888,
              "#fdca26"
             ],
             [
              1,
              "#f0f921"
             ]
            ],
            "type": "surface"
           }
          ],
          "table": [
           {
            "cells": {
             "fill": {
              "color": "#EBF0F8"
             },
             "line": {
              "color": "white"
             }
            },
            "header": {
             "fill": {
              "color": "#C8D4E3"
             },
             "line": {
              "color": "white"
             }
            },
            "type": "table"
           }
          ]
         },
         "layout": {
          "annotationdefaults": {
           "arrowcolor": "#2a3f5f",
           "arrowhead": 0,
           "arrowwidth": 1
          },
          "coloraxis": {
           "colorbar": {
            "outlinewidth": 0,
            "ticks": ""
           }
          },
          "colorscale": {
           "diverging": [
            [
             0,
             "#8e0152"
            ],
            [
             0.1,
             "#c51b7d"
            ],
            [
             0.2,
             "#de77ae"
            ],
            [
             0.3,
             "#f1b6da"
            ],
            [
             0.4,
             "#fde0ef"
            ],
            [
             0.5,
             "#f7f7f7"
            ],
            [
             0.6,
             "#e6f5d0"
            ],
            [
             0.7,
             "#b8e186"
            ],
            [
             0.8,
             "#7fbc41"
            ],
            [
             0.9,
             "#4d9221"
            ],
            [
             1,
             "#276419"
            ]
           ],
           "sequential": [
            [
             0,
             "#0d0887"
            ],
            [
             0.1111111111111111,
             "#46039f"
            ],
            [
             0.2222222222222222,
             "#7201a8"
            ],
            [
             0.3333333333333333,
             "#9c179e"
            ],
            [
             0.4444444444444444,
             "#bd3786"
            ],
            [
             0.5555555555555556,
             "#d8576b"
            ],
            [
             0.6666666666666666,
             "#ed7953"
            ],
            [
             0.7777777777777778,
             "#fb9f3a"
            ],
            [
             0.8888888888888888,
             "#fdca26"
            ],
            [
             1,
             "#f0f921"
            ]
           ],
           "sequentialminus": [
            [
             0,
             "#0d0887"
            ],
            [
             0.1111111111111111,
             "#46039f"
            ],
            [
             0.2222222222222222,
             "#7201a8"
            ],
            [
             0.3333333333333333,
             "#9c179e"
            ],
            [
             0.4444444444444444,
             "#bd3786"
            ],
            [
             0.5555555555555556,
             "#d8576b"
            ],
            [
             0.6666666666666666,
             "#ed7953"
            ],
            [
             0.7777777777777778,
             "#fb9f3a"
            ],
            [
             0.8888888888888888,
             "#fdca26"
            ],
            [
             1,
             "#f0f921"
            ]
           ]
          },
          "colorway": [
           "#636efa",
           "#EF553B",
           "#00cc96",
           "#ab63fa",
           "#FFA15A",
           "#19d3f3",
           "#FF6692",
           "#B6E880",
           "#FF97FF",
           "#FECB52"
          ],
          "font": {
           "color": "#2a3f5f"
          },
          "geo": {
           "bgcolor": "white",
           "lakecolor": "white",
           "landcolor": "#E5ECF6",
           "showlakes": true,
           "showland": true,
           "subunitcolor": "white"
          },
          "hoverlabel": {
           "align": "left"
          },
          "hovermode": "closest",
          "mapbox": {
           "style": "light"
          },
          "paper_bgcolor": "white",
          "plot_bgcolor": "#E5ECF6",
          "polar": {
           "angularaxis": {
            "gridcolor": "white",
            "linecolor": "white",
            "ticks": ""
           },
           "bgcolor": "#E5ECF6",
           "radialaxis": {
            "gridcolor": "white",
            "linecolor": "white",
            "ticks": ""
           }
          },
          "scene": {
           "xaxis": {
            "backgroundcolor": "#E5ECF6",
            "gridcolor": "white",
            "gridwidth": 2,
            "linecolor": "white",
            "showbackground": true,
            "ticks": "",
            "zerolinecolor": "white"
           },
           "yaxis": {
            "backgroundcolor": "#E5ECF6",
            "gridcolor": "white",
            "gridwidth": 2,
            "linecolor": "white",
            "showbackground": true,
            "ticks": "",
            "zerolinecolor": "white"
           },
           "zaxis": {
            "backgroundcolor": "#E5ECF6",
            "gridcolor": "white",
            "gridwidth": 2,
            "linecolor": "white",
            "showbackground": true,
            "ticks": "",
            "zerolinecolor": "white"
           }
          },
          "shapedefaults": {
           "line": {
            "color": "#2a3f5f"
           }
          },
          "ternary": {
           "aaxis": {
            "gridcolor": "white",
            "linecolor": "white",
            "ticks": ""
           },
           "baxis": {
            "gridcolor": "white",
            "linecolor": "white",
            "ticks": ""
           },
           "bgcolor": "#E5ECF6",
           "caxis": {
            "gridcolor": "white",
            "linecolor": "white",
            "ticks": ""
           }
          },
          "title": {
           "x": 0.05
          },
          "xaxis": {
           "automargin": true,
           "gridcolor": "white",
           "linecolor": "white",
           "ticks": "",
           "title": {
            "standoff": 15
           },
           "zerolinecolor": "white",
           "zerolinewidth": 2
          },
          "yaxis": {
           "automargin": true,
           "gridcolor": "white",
           "linecolor": "white",
           "ticks": "",
           "title": {
            "standoff": 15
           },
           "zerolinecolor": "white",
           "zerolinewidth": 2
          }
         }
        },
        "title": {
         "font": {
          "color": "#4D5663"
         }
        },
        "xaxis": {
         "gridcolor": "#E1E5ED",
         "showgrid": true,
         "tickfont": {
          "color": "#4D5663"
         },
         "title": {
          "font": {
           "color": "#4D5663"
          },
          "text": ""
         },
         "zerolinecolor": "#E1E5ED"
        },
        "yaxis": {
         "gridcolor": "#E1E5ED",
         "showgrid": true,
         "tickfont": {
          "color": "#4D5663"
         },
         "title": {
          "font": {
           "color": "#4D5663"
          },
          "text": ""
         },
         "zerolinecolor": "#E1E5ED"
        }
       }
      },
      "text/html": [
       "<div>\n",
       "        \n",
       "        \n",
       "            <div id=\"88f66ed3-0d67-4c58-9327-3d1fe94acc5c\" class=\"plotly-graph-div\" style=\"height:525px; width:100%;\"></div>\n",
       "            <script type=\"text/javascript\">\n",
       "                require([\"plotly\"], function(Plotly) {\n",
       "                    window.PLOTLYENV=window.PLOTLYENV || {};\n",
       "                    window.PLOTLYENV.BASE_URL='https://plot.ly';\n",
       "                    \n",
       "                if (document.getElementById(\"88f66ed3-0d67-4c58-9327-3d1fe94acc5c\")) {\n",
       "                    Plotly.newPlot(\n",
       "                        '88f66ed3-0d67-4c58-9327-3d1fe94acc5c',\n",
       "                        [{\"marker\": {\"color\": \"rgba(255, 153, 51, 0.6)\", \"line\": {\"color\": \"rgba(255, 153, 51, 1.0)\", \"width\": 1}}, \"name\": \"Total Cases\", \"orientation\": \"v\", \"text\": \"\", \"type\": \"bar\", \"x\": [\"Andhra Pradesh\", \"Chhattisgarh\", \"Delhi\", \"Gujarat\", \"Haryana\", \"Himachal Pradesh\", \"Karnataka\", \"Kerala\", \"Madhya Pradesh\", \"Maharashtra\", \"Odisha\", \"Puducherry\", \"Punjab\", \"Rajasthan\", \"Tamil Nadu\", \"Telengana\", \"Chandigarh\", \"Jammu and Kashmir\", \"Ladakh\", \"Uttar Pradesh\", \"Uttarakhand\", \"West Bengal\", \"Bihar\", \"Mizoram\", \"Goa\", \"Manipur\"], \"y\": [12, 6, 39, 43, 30, 4, 20, 138, 23, 147, 3, 1, 29, 43, 35, 45, 7, 18, 13, 43, 4, 11, 7, 1, 6, 1]}],\n",
       "                        {\"legend\": {\"bgcolor\": \"#F5F6F9\", \"font\": {\"color\": \"#4D5663\"}}, \"paper_bgcolor\": \"#F5F6F9\", \"plot_bgcolor\": \"#F5F6F9\", \"template\": {\"data\": {\"bar\": [{\"error_x\": {\"color\": \"#2a3f5f\"}, \"error_y\": {\"color\": \"#2a3f5f\"}, \"marker\": {\"line\": {\"color\": \"#E5ECF6\", \"width\": 0.5}}, \"type\": \"bar\"}], \"barpolar\": [{\"marker\": {\"line\": {\"color\": \"#E5ECF6\", \"width\": 0.5}}, \"type\": \"barpolar\"}], \"carpet\": [{\"aaxis\": {\"endlinecolor\": \"#2a3f5f\", \"gridcolor\": \"white\", \"linecolor\": \"white\", \"minorgridcolor\": \"white\", \"startlinecolor\": \"#2a3f5f\"}, \"baxis\": {\"endlinecolor\": \"#2a3f5f\", \"gridcolor\": \"white\", \"linecolor\": \"white\", \"minorgridcolor\": \"white\", \"startlinecolor\": \"#2a3f5f\"}, \"type\": \"carpet\"}], \"choropleth\": [{\"colorbar\": {\"outlinewidth\": 0, \"ticks\": \"\"}, \"type\": \"choropleth\"}], \"contour\": [{\"colorbar\": {\"outlinewidth\": 0, \"ticks\": \"\"}, \"colorscale\": [[0.0, \"#0d0887\"], [0.1111111111111111, \"#46039f\"], [0.2222222222222222, \"#7201a8\"], [0.3333333333333333, \"#9c179e\"], [0.4444444444444444, \"#bd3786\"], [0.5555555555555556, \"#d8576b\"], [0.6666666666666666, \"#ed7953\"], [0.7777777777777778, \"#fb9f3a\"], [0.8888888888888888, \"#fdca26\"], [1.0, \"#f0f921\"]], \"type\": \"contour\"}], \"contourcarpet\": [{\"colorbar\": {\"outlinewidth\": 0, \"ticks\": \"\"}, \"type\": \"contourcarpet\"}], \"heatmap\": [{\"colorbar\": {\"outlinewidth\": 0, \"ticks\": \"\"}, \"colorscale\": [[0.0, \"#0d0887\"], [0.1111111111111111, \"#46039f\"], [0.2222222222222222, \"#7201a8\"], [0.3333333333333333, \"#9c179e\"], [0.4444444444444444, \"#bd3786\"], [0.5555555555555556, \"#d8576b\"], [0.6666666666666666, \"#ed7953\"], [0.7777777777777778, \"#fb9f3a\"], [0.8888888888888888, \"#fdca26\"], [1.0, \"#f0f921\"]], \"type\": \"heatmap\"}], \"heatmapgl\": [{\"colorbar\": {\"outlinewidth\": 0, \"ticks\": \"\"}, \"colorscale\": [[0.0, \"#0d0887\"], [0.1111111111111111, \"#46039f\"], [0.2222222222222222, \"#7201a8\"], [0.3333333333333333, \"#9c179e\"], [0.4444444444444444, \"#bd3786\"], [0.5555555555555556, \"#d8576b\"], [0.6666666666666666, \"#ed7953\"], [0.7777777777777778, \"#fb9f3a\"], [0.8888888888888888, \"#fdca26\"], [1.0, \"#f0f921\"]], \"type\": \"heatmapgl\"}], \"histogram\": [{\"marker\": {\"colorbar\": {\"outlinewidth\": 0, \"ticks\": \"\"}}, \"type\": \"histogram\"}], \"histogram2d\": [{\"colorbar\": {\"outlinewidth\": 0, \"ticks\": \"\"}, \"colorscale\": [[0.0, \"#0d0887\"], [0.1111111111111111, \"#46039f\"], [0.2222222222222222, \"#7201a8\"], [0.3333333333333333, \"#9c179e\"], [0.4444444444444444, \"#bd3786\"], [0.5555555555555556, \"#d8576b\"], [0.6666666666666666, \"#ed7953\"], [0.7777777777777778, \"#fb9f3a\"], [0.8888888888888888, \"#fdca26\"], [1.0, \"#f0f921\"]], \"type\": \"histogram2d\"}], \"histogram2dcontour\": [{\"colorbar\": {\"outlinewidth\": 0, \"ticks\": \"\"}, \"colorscale\": [[0.0, \"#0d0887\"], [0.1111111111111111, \"#46039f\"], [0.2222222222222222, \"#7201a8\"], [0.3333333333333333, \"#9c179e\"], [0.4444444444444444, \"#bd3786\"], [0.5555555555555556, \"#d8576b\"], [0.6666666666666666, \"#ed7953\"], [0.7777777777777778, \"#fb9f3a\"], [0.8888888888888888, \"#fdca26\"], [1.0, \"#f0f921\"]], \"type\": \"histogram2dcontour\"}], \"mesh3d\": [{\"colorbar\": {\"outlinewidth\": 0, \"ticks\": \"\"}, \"type\": \"mesh3d\"}], \"parcoords\": [{\"line\": {\"colorbar\": {\"outlinewidth\": 0, \"ticks\": \"\"}}, \"type\": \"parcoords\"}], \"pie\": [{\"automargin\": true, \"type\": \"pie\"}], \"scatter\": [{\"marker\": {\"colorbar\": {\"outlinewidth\": 0, \"ticks\": \"\"}}, \"type\": \"scatter\"}], \"scatter3d\": [{\"line\": {\"colorbar\": {\"outlinewidth\": 0, \"ticks\": \"\"}}, \"marker\": {\"colorbar\": {\"outlinewidth\": 0, \"ticks\": \"\"}}, \"type\": \"scatter3d\"}], \"scattercarpet\": [{\"marker\": {\"colorbar\": {\"outlinewidth\": 0, \"ticks\": \"\"}}, \"type\": \"scattercarpet\"}], \"scattergeo\": [{\"marker\": {\"colorbar\": {\"outlinewidth\": 0, \"ticks\": \"\"}}, \"type\": \"scattergeo\"}], \"scattergl\": [{\"marker\": {\"colorbar\": {\"outlinewidth\": 0, \"ticks\": \"\"}}, \"type\": \"scattergl\"}], \"scattermapbox\": [{\"marker\": {\"colorbar\": {\"outlinewidth\": 0, \"ticks\": \"\"}}, \"type\": \"scattermapbox\"}], \"scatterpolar\": [{\"marker\": {\"colorbar\": {\"outlinewidth\": 0, \"ticks\": \"\"}}, \"type\": \"scatterpolar\"}], \"scatterpolargl\": [{\"marker\": {\"colorbar\": {\"outlinewidth\": 0, \"ticks\": \"\"}}, \"type\": \"scatterpolargl\"}], \"scatterternary\": [{\"marker\": {\"colorbar\": {\"outlinewidth\": 0, \"ticks\": \"\"}}, \"type\": \"scatterternary\"}], \"surface\": [{\"colorbar\": {\"outlinewidth\": 0, \"ticks\": \"\"}, \"colorscale\": [[0.0, \"#0d0887\"], [0.1111111111111111, \"#46039f\"], [0.2222222222222222, \"#7201a8\"], [0.3333333333333333, \"#9c179e\"], [0.4444444444444444, \"#bd3786\"], [0.5555555555555556, \"#d8576b\"], [0.6666666666666666, \"#ed7953\"], [0.7777777777777778, \"#fb9f3a\"], [0.8888888888888888, \"#fdca26\"], [1.0, \"#f0f921\"]], \"type\": \"surface\"}], \"table\": [{\"cells\": {\"fill\": {\"color\": \"#EBF0F8\"}, \"line\": {\"color\": \"white\"}}, \"header\": {\"fill\": {\"color\": \"#C8D4E3\"}, \"line\": {\"color\": \"white\"}}, \"type\": \"table\"}]}, \"layout\": {\"annotationdefaults\": {\"arrowcolor\": \"#2a3f5f\", \"arrowhead\": 0, \"arrowwidth\": 1}, \"coloraxis\": {\"colorbar\": {\"outlinewidth\": 0, \"ticks\": \"\"}}, \"colorscale\": {\"diverging\": [[0, \"#8e0152\"], [0.1, \"#c51b7d\"], [0.2, \"#de77ae\"], [0.3, \"#f1b6da\"], [0.4, \"#fde0ef\"], [0.5, \"#f7f7f7\"], [0.6, \"#e6f5d0\"], [0.7, \"#b8e186\"], [0.8, \"#7fbc41\"], [0.9, \"#4d9221\"], [1, \"#276419\"]], \"sequential\": [[0.0, \"#0d0887\"], [0.1111111111111111, \"#46039f\"], [0.2222222222222222, \"#7201a8\"], [0.3333333333333333, \"#9c179e\"], [0.4444444444444444, \"#bd3786\"], [0.5555555555555556, \"#d8576b\"], [0.6666666666666666, \"#ed7953\"], [0.7777777777777778, \"#fb9f3a\"], [0.8888888888888888, \"#fdca26\"], [1.0, \"#f0f921\"]], \"sequentialminus\": [[0.0, \"#0d0887\"], [0.1111111111111111, \"#46039f\"], [0.2222222222222222, \"#7201a8\"], [0.3333333333333333, \"#9c179e\"], [0.4444444444444444, \"#bd3786\"], [0.5555555555555556, \"#d8576b\"], [0.6666666666666666, \"#ed7953\"], [0.7777777777777778, \"#fb9f3a\"], [0.8888888888888888, \"#fdca26\"], [1.0, \"#f0f921\"]]}, \"colorway\": [\"#636efa\", \"#EF553B\", \"#00cc96\", \"#ab63fa\", \"#FFA15A\", \"#19d3f3\", \"#FF6692\", \"#B6E880\", \"#FF97FF\", \"#FECB52\"], \"font\": {\"color\": \"#2a3f5f\"}, \"geo\": {\"bgcolor\": \"white\", \"lakecolor\": \"white\", \"landcolor\": \"#E5ECF6\", \"showlakes\": true, \"showland\": true, \"subunitcolor\": \"white\"}, \"hoverlabel\": {\"align\": \"left\"}, \"hovermode\": \"closest\", \"mapbox\": {\"style\": \"light\"}, \"paper_bgcolor\": \"white\", \"plot_bgcolor\": \"#E5ECF6\", \"polar\": {\"angularaxis\": {\"gridcolor\": \"white\", \"linecolor\": \"white\", \"ticks\": \"\"}, \"bgcolor\": \"#E5ECF6\", \"radialaxis\": {\"gridcolor\": \"white\", \"linecolor\": \"white\", \"ticks\": \"\"}}, \"scene\": {\"xaxis\": {\"backgroundcolor\": \"#E5ECF6\", \"gridcolor\": \"white\", \"gridwidth\": 2, \"linecolor\": \"white\", \"showbackground\": true, \"ticks\": \"\", \"zerolinecolor\": \"white\"}, \"yaxis\": {\"backgroundcolor\": \"#E5ECF6\", \"gridcolor\": \"white\", \"gridwidth\": 2, \"linecolor\": \"white\", \"showbackground\": true, \"ticks\": \"\", \"zerolinecolor\": \"white\"}, \"zaxis\": {\"backgroundcolor\": \"#E5ECF6\", \"gridcolor\": \"white\", \"gridwidth\": 2, \"linecolor\": \"white\", \"showbackground\": true, \"ticks\": \"\", \"zerolinecolor\": \"white\"}}, \"shapedefaults\": {\"line\": {\"color\": \"#2a3f5f\"}}, \"ternary\": {\"aaxis\": {\"gridcolor\": \"white\", \"linecolor\": \"white\", \"ticks\": \"\"}, \"baxis\": {\"gridcolor\": \"white\", \"linecolor\": \"white\", \"ticks\": \"\"}, \"bgcolor\": \"#E5ECF6\", \"caxis\": {\"gridcolor\": \"white\", \"linecolor\": \"white\", \"ticks\": \"\"}}, \"title\": {\"x\": 0.05}, \"xaxis\": {\"automargin\": true, \"gridcolor\": \"white\", \"linecolor\": \"white\", \"ticks\": \"\", \"title\": {\"standoff\": 15}, \"zerolinecolor\": \"white\", \"zerolinewidth\": 2}, \"yaxis\": {\"automargin\": true, \"gridcolor\": \"white\", \"linecolor\": \"white\", \"ticks\": \"\", \"title\": {\"standoff\": 15}, \"zerolinecolor\": \"white\", \"zerolinewidth\": 2}}}, \"title\": {\"font\": {\"color\": \"#4D5663\"}}, \"xaxis\": {\"gridcolor\": \"#E1E5ED\", \"showgrid\": true, \"tickfont\": {\"color\": \"#4D5663\"}, \"title\": {\"font\": {\"color\": \"#4D5663\"}, \"text\": \"\"}, \"zerolinecolor\": \"#E1E5ED\"}, \"yaxis\": {\"gridcolor\": \"#E1E5ED\", \"showgrid\": true, \"tickfont\": {\"color\": \"#4D5663\"}, \"title\": {\"font\": {\"color\": \"#4D5663\"}, \"text\": \"\"}, \"zerolinecolor\": \"#E1E5ED\"}},\n",
       "                        {\"showLink\": true, \"linkText\": \"Export to plot.ly\", \"plotlyServerURL\": \"https://plot.ly\", \"responsive\": true}\n",
       "                    ).then(function(){\n",
       "                            \n",
       "var gd = document.getElementById('88f66ed3-0d67-4c58-9327-3d1fe94acc5c');\n",
       "var x = new MutationObserver(function (mutations, observer) {{\n",
       "        var display = window.getComputedStyle(gd).display;\n",
       "        if (!display || display === 'none') {{\n",
       "            console.log([gd, 'removed!']);\n",
       "            Plotly.purge(gd);\n",
       "            observer.disconnect();\n",
       "        }}\n",
       "}});\n",
       "\n",
       "// Listen for the removal of the full notebook cells\n",
       "var notebookContainer = gd.closest('#notebook-container');\n",
       "if (notebookContainer) {{\n",
       "    x.observe(notebookContainer, {childList: true});\n",
       "}}\n",
       "\n",
       "// Listen for the clearing of the current output cell\n",
       "var outputEl = gd.closest('.output');\n",
       "if (outputEl) {{\n",
       "    x.observe(outputEl, {childList: true});\n",
       "}}\n",
       "\n",
       "                        })\n",
       "                };\n",
       "                });\n",
       "            </script>\n",
       "        </div>"
      ]
     },
     "metadata": {},
     "output_type": "display_data"
    }
   ],
   "source": [
    "#Plotly\n",
    "df.iplot(kind='bar',x='Name of State / UT',y='Total Cases')"
   ]
  },
  {
   "cell_type": "code",
   "execution_count": 1,
   "metadata": {},
   "outputs": [
    {
     "ename": "NameError",
     "evalue": "name 'plt' is not defined",
     "output_type": "error",
     "traceback": [
      "\u001b[0;31m---------------------------------------------------------------------------\u001b[0m",
      "\u001b[0;31mNameError\u001b[0m                                 Traceback (most recent call last)",
      "\u001b[0;32m<ipython-input-1-f94fe207079e>\u001b[0m in \u001b[0;36m<module>\u001b[0;34m()\u001b[0m\n\u001b[1;32m      1\u001b[0m \u001b[0;31m# Visual Matplotlib\u001b[0m\u001b[0;34m\u001b[0m\u001b[0;34m\u001b[0m\u001b[0;34m\u001b[0m\u001b[0m\n\u001b[0;32m----> 2\u001b[0;31m \u001b[0mplt\u001b[0m\u001b[0;34m.\u001b[0m\u001b[0mbar\u001b[0m\u001b[0;34m(\u001b[0m\u001b[0mdf\u001b[0m\u001b[0;34m[\u001b[0m\u001b[0;34m'Name of State / UT'\u001b[0m\u001b[0;34m]\u001b[0m\u001b[0;34m,\u001b[0m\u001b[0mdf\u001b[0m\u001b[0;34m[\u001b[0m\u001b[0;34m'Total Cases'\u001b[0m\u001b[0;34m]\u001b[0m\u001b[0;34m)\u001b[0m\u001b[0;34m\u001b[0m\u001b[0;34m\u001b[0m\u001b[0m\n\u001b[0m",
      "\u001b[0;31mNameError\u001b[0m: name 'plt' is not defined"
     ]
    }
   ],
   "source": [
    "# Visual Matplotlib\n",
    "plt.bar(df['Name of State / UT'],df['Total Cases'])"
   ]
  },
  {
   "cell_type": "code",
   "execution_count": null,
   "metadata": {},
   "outputs": [],
   "source": []
  }
 ],
 "metadata": {
  "kernelspec": {
   "display_name": "Python 3",
   "language": "python",
   "name": "python3"
  },
  "language_info": {
   "codemirror_mode": {
    "name": "ipython",
    "version": 3
   },
   "file_extension": ".py",
   "mimetype": "text/x-python",
   "name": "python",
   "nbconvert_exporter": "python",
   "pygments_lexer": "ipython3",
   "version": "3.6.9"
  }
 },
 "nbformat": 4,
 "nbformat_minor": 4
}
